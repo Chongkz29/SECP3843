{
 "cells": [
  {
   "cell_type": "code",
   "execution_count": 2,
   "id": "4ed1448b",
   "metadata": {},
   "outputs": [
    {
     "name": "stdout",
     "output_type": "stream",
     "text": [
      "Collecting pymongoNote: you may need to restart the kernel to use updated packages.\n",
      "\n",
      "  Downloading pymongo-4.4.0-cp39-cp39-win_amd64.whl (453 kB)\n",
      "     -------------------------------------- 453.6/453.6 kB 9.4 MB/s eta 0:00:00\n",
      "Collecting dnspython<3.0.0,>=1.16.0\n",
      "  Using cached dnspython-2.3.0-py3-none-any.whl (283 kB)\n",
      "Installing collected packages: dnspython, pymongo\n",
      "Successfully installed dnspython-2.3.0 pymongo-4.4.0\n"
     ]
    }
   ],
   "source": [
    "pip install pymongo"
   ]
  },
  {
   "cell_type": "code",
   "execution_count": 3,
   "id": "858bf08d",
   "metadata": {},
   "outputs": [
    {
     "name": "stderr",
     "output_type": "stream",
     "text": [
      "C:\\Users\\yong\\anaconda3\\lib\\site-packages\\cryptography\\x509\\base.py:521: CryptographyDeprecationWarning: Parsed a negative serial number, which is disallowed by RFC 5280.\n",
      "  return rust_x509.load_der_x509_certificate(data)\n",
      "C:\\Users\\yong\\AppData\\Local\\Temp\\ipykernel_15764\\1499315351.py:16: FutureWarning: pandas.io.json.json_normalize is deprecated, use pandas.json_normalize instead.\n",
      "  df = json_normalize(data)\n"
     ]
    },
    {
     "data": {
      "text/html": [
       "<div>\n",
       "<style scoped>\n",
       "    .dataframe tbody tr th:only-of-type {\n",
       "        vertical-align: middle;\n",
       "    }\n",
       "\n",
       "    .dataframe tbody tr th {\n",
       "        vertical-align: top;\n",
       "    }\n",
       "\n",
       "    .dataframe thead th {\n",
       "        text-align: right;\n",
       "    }\n",
       "</style>\n",
       "<table border=\"1\" class=\"dataframe\">\n",
       "  <thead>\n",
       "    <tr style=\"text-align: right;\">\n",
       "      <th></th>\n",
       "      <th>_id</th>\n",
       "      <th>id</th>\n",
       "      <th>certificate_number</th>\n",
       "      <th>business_name</th>\n",
       "      <th>date</th>\n",
       "      <th>result</th>\n",
       "      <th>sector</th>\n",
       "      <th>address.city</th>\n",
       "      <th>address.zip</th>\n",
       "      <th>address.street</th>\n",
       "      <th>address.number</th>\n",
       "    </tr>\n",
       "  </thead>\n",
       "  <tbody>\n",
       "    <tr>\n",
       "      <th>0</th>\n",
       "      <td>56d61033a378eccde8a8354f</td>\n",
       "      <td>10021-2015-ENFO</td>\n",
       "      <td>9278806</td>\n",
       "      <td>ATLIXCO DELI GROCERY INC.</td>\n",
       "      <td>Feb 20 2015</td>\n",
       "      <td>No Violation Issued</td>\n",
       "      <td>Cigarette Retail Dealer - 127</td>\n",
       "      <td>RIDGEWOOD</td>\n",
       "      <td>11385</td>\n",
       "      <td>MENAHAN ST</td>\n",
       "      <td>1712</td>\n",
       "    </tr>\n",
       "    <tr>\n",
       "      <th>1</th>\n",
       "      <td>56d61033a378eccde8a83550</td>\n",
       "      <td>10057-2015-ENFO</td>\n",
       "      <td>6007104</td>\n",
       "      <td>LD BUSINESS SOLUTIONS</td>\n",
       "      <td>Feb 25 2015</td>\n",
       "      <td>Violation Issued</td>\n",
       "      <td>Tax Preparers - 891</td>\n",
       "      <td>NEW YORK</td>\n",
       "      <td>10030</td>\n",
       "      <td>FREDERICK DOUGLASS BLVD</td>\n",
       "      <td>2655</td>\n",
       "    </tr>\n",
       "    <tr>\n",
       "      <th>2</th>\n",
       "      <td>56d61033a378eccde8a83551</td>\n",
       "      <td>10084-2015-ENFO</td>\n",
       "      <td>9278914</td>\n",
       "      <td>MICHAEL GOMEZ RANGHALL</td>\n",
       "      <td>Feb 10 2015</td>\n",
       "      <td>No Violation Issued</td>\n",
       "      <td>Locksmith - 062</td>\n",
       "      <td>QUEENS VLG</td>\n",
       "      <td>11427</td>\n",
       "      <td>214TH ST</td>\n",
       "      <td>8823</td>\n",
       "    </tr>\n",
       "    <tr>\n",
       "      <th>3</th>\n",
       "      <td>56d61033a378eccde8a83552</td>\n",
       "      <td>1012-2015-CMPL</td>\n",
       "      <td>5346909</td>\n",
       "      <td>A&amp;C CHIMNEY CORP.</td>\n",
       "      <td>Apr 22 2015</td>\n",
       "      <td>Violation Issued</td>\n",
       "      <td>Home Improvement Contractor - 100</td>\n",
       "      <td>QUEENS VLG</td>\n",
       "      <td>11428</td>\n",
       "      <td>210TH ST</td>\n",
       "      <td>9440</td>\n",
       "    </tr>\n",
       "    <tr>\n",
       "      <th>4</th>\n",
       "      <td>56d61033a378eccde8a83553</td>\n",
       "      <td>10127-2015-CMPL</td>\n",
       "      <td>5381180</td>\n",
       "      <td>ERIC CONSTRUCTION AND DECORATING INC.</td>\n",
       "      <td>Sep  8 2015</td>\n",
       "      <td>Violation Issued</td>\n",
       "      <td>Home Improvement Contractor - 100</td>\n",
       "      <td>STATEN ISLAND</td>\n",
       "      <td>10304</td>\n",
       "      <td>TODT HILL RD</td>\n",
       "      <td>1233</td>\n",
       "    </tr>\n",
       "  </tbody>\n",
       "</table>\n",
       "</div>"
      ],
      "text/plain": [
       "                        _id               id certificate_number  \\\n",
       "0  56d61033a378eccde8a8354f  10021-2015-ENFO            9278806   \n",
       "1  56d61033a378eccde8a83550  10057-2015-ENFO            6007104   \n",
       "2  56d61033a378eccde8a83551  10084-2015-ENFO            9278914   \n",
       "3  56d61033a378eccde8a83552   1012-2015-CMPL            5346909   \n",
       "4  56d61033a378eccde8a83553  10127-2015-CMPL            5381180   \n",
       "\n",
       "                           business_name         date               result  \\\n",
       "0              ATLIXCO DELI GROCERY INC.  Feb 20 2015  No Violation Issued   \n",
       "1                  LD BUSINESS SOLUTIONS  Feb 25 2015     Violation Issued   \n",
       "2                 MICHAEL GOMEZ RANGHALL  Feb 10 2015  No Violation Issued   \n",
       "3                      A&C CHIMNEY CORP.  Apr 22 2015     Violation Issued   \n",
       "4  ERIC CONSTRUCTION AND DECORATING INC.  Sep  8 2015     Violation Issued   \n",
       "\n",
       "                              sector   address.city address.zip  \\\n",
       "0      Cigarette Retail Dealer - 127      RIDGEWOOD       11385   \n",
       "1                Tax Preparers - 891       NEW YORK       10030   \n",
       "2                    Locksmith - 062     QUEENS VLG       11427   \n",
       "3  Home Improvement Contractor - 100     QUEENS VLG       11428   \n",
       "4  Home Improvement Contractor - 100  STATEN ISLAND       10304   \n",
       "\n",
       "            address.street address.number  \n",
       "0               MENAHAN ST           1712  \n",
       "1  FREDERICK DOUGLASS BLVD           2655  \n",
       "2                 214TH ST           8823  \n",
       "3                 210TH ST           9440  \n",
       "4             TODT HILL RD           1233  "
      ]
     },
     "execution_count": 3,
     "metadata": {},
     "output_type": "execute_result"
    }
   ],
   "source": [
    "import pymongo\n",
    "import pandas as pd\n",
    "from pandas.io.json import json_normalize\n",
    "import pandas as pd\n",
    "import numpy as np\n",
    "\n",
    "# Connect to MongoDB and retrieve data\n",
    "client = pymongo.MongoClient(\"mongodb+srv://1:1@cluster0.fjm9stx.mongodb.net/?authMechanism=SCRAM-SHA-1\")\n",
    "db = client[\"AA\"]\n",
    "collection = db[\"city\"]\n",
    "data = list(collection.find())\n",
    "\n",
    "# Convert to dataframe\n",
    "df = pd.DataFrame(data)\n",
    "# Convert nested attributes to separate columns using json_normalize\n",
    "df = json_normalize(data)\n",
    "df.head()"
   ]
  },
  {
   "cell_type": "code",
   "execution_count": 4,
   "id": "3b78fdd8",
   "metadata": {},
   "outputs": [
    {
     "data": {
      "text/plain": [
       "_id                   0\n",
       "id                    0\n",
       "certificate_number    0\n",
       "business_name         0\n",
       "date                  0\n",
       "result                0\n",
       "sector                0\n",
       "address.city          0\n",
       "address.zip           0\n",
       "address.street        0\n",
       "address.number        0\n",
       "dtype: int64"
      ]
     },
     "execution_count": 4,
     "metadata": {},
     "output_type": "execute_result"
    }
   ],
   "source": [
    "df.isnull().sum()"
   ]
  },
  {
   "cell_type": "code",
   "execution_count": 5,
   "id": "8daa8426",
   "metadata": {},
   "outputs": [
    {
     "data": {
      "text/html": [
       "<div>\n",
       "<style scoped>\n",
       "    .dataframe tbody tr th:only-of-type {\n",
       "        vertical-align: middle;\n",
       "    }\n",
       "\n",
       "    .dataframe tbody tr th {\n",
       "        vertical-align: top;\n",
       "    }\n",
       "\n",
       "    .dataframe thead th {\n",
       "        text-align: right;\n",
       "    }\n",
       "</style>\n",
       "<table border=\"1\" class=\"dataframe\">\n",
       "  <thead>\n",
       "    <tr style=\"text-align: right;\">\n",
       "      <th></th>\n",
       "      <th>_id</th>\n",
       "      <th>id</th>\n",
       "      <th>certificate_number</th>\n",
       "      <th>business_name</th>\n",
       "      <th>date</th>\n",
       "      <th>result</th>\n",
       "      <th>sector</th>\n",
       "      <th>address.city</th>\n",
       "      <th>address.zip</th>\n",
       "      <th>address.street</th>\n",
       "      <th>address.number</th>\n",
       "    </tr>\n",
       "  </thead>\n",
       "  <tbody>\n",
       "    <tr>\n",
       "      <th>count</th>\n",
       "      <td>81047</td>\n",
       "      <td>81047</td>\n",
       "      <td>81047</td>\n",
       "      <td>81047</td>\n",
       "      <td>81047</td>\n",
       "      <td>81047</td>\n",
       "      <td>81047</td>\n",
       "      <td>81047</td>\n",
       "      <td>81047</td>\n",
       "      <td>81047</td>\n",
       "      <td>81047</td>\n",
       "    </tr>\n",
       "    <tr>\n",
       "      <th>unique</th>\n",
       "      <td>81047</td>\n",
       "      <td>80148</td>\n",
       "      <td>80794</td>\n",
       "      <td>44445</td>\n",
       "      <td>367</td>\n",
       "      <td>23</td>\n",
       "      <td>86</td>\n",
       "      <td>236</td>\n",
       "      <td>360</td>\n",
       "      <td>2637</td>\n",
       "      <td>9799</td>\n",
       "    </tr>\n",
       "    <tr>\n",
       "      <th>top</th>\n",
       "      <td>56d61033a378eccde8a8354f</td>\n",
       "      <td>4094-UNIT</td>\n",
       "      <td>9313706</td>\n",
       "      <td>DUANE READE</td>\n",
       "      <td>Jul  2 2015</td>\n",
       "      <td>No Violation Issued</td>\n",
       "      <td>Cigarette Retail Dealer - 127</td>\n",
       "      <td>BROOKLYN</td>\n",
       "      <td>11215</td>\n",
       "      <td>BROADWAY</td>\n",
       "      <td></td>\n",
       "    </tr>\n",
       "    <tr>\n",
       "      <th>freq</th>\n",
       "      <td>1</td>\n",
       "      <td>5</td>\n",
       "      <td>3</td>\n",
       "      <td>758</td>\n",
       "      <td>689</td>\n",
       "      <td>37749</td>\n",
       "      <td>22971</td>\n",
       "      <td>26175</td>\n",
       "      <td>1145</td>\n",
       "      <td>3191</td>\n",
       "      <td>1181</td>\n",
       "    </tr>\n",
       "  </tbody>\n",
       "</table>\n",
       "</div>"
      ],
      "text/plain": [
       "                             _id         id  certificate_number business_name  \\\n",
       "count                      81047      81047               81047         81047   \n",
       "unique                     81047      80148               80794         44445   \n",
       "top     56d61033a378eccde8a8354f  4094-UNIT             9313706   DUANE READE   \n",
       "freq                           1          5                   3           758   \n",
       "\n",
       "               date               result                         sector  \\\n",
       "count         81047                81047                          81047   \n",
       "unique          367                   23                             86   \n",
       "top     Jul  2 2015  No Violation Issued  Cigarette Retail Dealer - 127   \n",
       "freq            689                37749                          22971   \n",
       "\n",
       "       address.city  address.zip address.street address.number  \n",
       "count         81047        81047          81047          81047  \n",
       "unique          236          360           2637           9799  \n",
       "top        BROOKLYN        11215       BROADWAY                 \n",
       "freq          26175         1145           3191           1181  "
      ]
     },
     "execution_count": 5,
     "metadata": {},
     "output_type": "execute_result"
    }
   ],
   "source": [
    "df.describe()"
   ]
  },
  {
   "cell_type": "code",
   "execution_count": 6,
   "id": "c72cc725",
   "metadata": {},
   "outputs": [
    {
     "name": "stdout",
     "output_type": "stream",
     "text": [
      "<class 'pandas.core.frame.DataFrame'>\n",
      "RangeIndex: 81047 entries, 0 to 81046\n",
      "Data columns (total 11 columns):\n",
      " #   Column              Non-Null Count  Dtype \n",
      "---  ------              --------------  ----- \n",
      " 0   _id                 81047 non-null  object\n",
      " 1   id                  81047 non-null  object\n",
      " 2   certificate_number  81047 non-null  object\n",
      " 3   business_name       81047 non-null  object\n",
      " 4   date                81047 non-null  object\n",
      " 5   result              81047 non-null  object\n",
      " 6   sector              81047 non-null  object\n",
      " 7   address.city        81047 non-null  object\n",
      " 8   address.zip         81047 non-null  object\n",
      " 9   address.street      81047 non-null  object\n",
      " 10  address.number      81047 non-null  object\n",
      "dtypes: object(11)\n",
      "memory usage: 6.8+ MB\n"
     ]
    }
   ],
   "source": [
    "df.info()"
   ]
  },
  {
   "cell_type": "code",
   "execution_count": 7,
   "id": "130a85ea",
   "metadata": {},
   "outputs": [],
   "source": [
    "df['date'] = pd.to_datetime(df['date'])  # Convert 'date' column to datetime"
   ]
  },
  {
   "cell_type": "code",
   "execution_count": 8,
   "id": "2c750162",
   "metadata": {},
   "outputs": [
    {
     "name": "stdout",
     "output_type": "stream",
     "text": [
      "<class 'pandas.core.frame.DataFrame'>\n",
      "RangeIndex: 81047 entries, 0 to 81046\n",
      "Data columns (total 11 columns):\n",
      " #   Column              Non-Null Count  Dtype         \n",
      "---  ------              --------------  -----         \n",
      " 0   _id                 81047 non-null  object        \n",
      " 1   id                  81047 non-null  object        \n",
      " 2   certificate_number  81047 non-null  object        \n",
      " 3   business_name       81047 non-null  object        \n",
      " 4   date                81047 non-null  datetime64[ns]\n",
      " 5   result              81047 non-null  object        \n",
      " 6   sector              81047 non-null  object        \n",
      " 7   address.city        81047 non-null  object        \n",
      " 8   address.zip         81047 non-null  object        \n",
      " 9   address.street      81047 non-null  object        \n",
      " 10  address.number      81047 non-null  object        \n",
      "dtypes: datetime64[ns](1), object(10)\n",
      "memory usage: 6.8+ MB\n"
     ]
    }
   ],
   "source": [
    "df.info()"
   ]
  },
  {
   "cell_type": "code",
   "execution_count": 9,
   "id": "469e9178",
   "metadata": {},
   "outputs": [
    {
     "data": {
      "text/html": [
       "<div>\n",
       "<style scoped>\n",
       "    .dataframe tbody tr th:only-of-type {\n",
       "        vertical-align: middle;\n",
       "    }\n",
       "\n",
       "    .dataframe tbody tr th {\n",
       "        vertical-align: top;\n",
       "    }\n",
       "\n",
       "    .dataframe thead th {\n",
       "        text-align: right;\n",
       "    }\n",
       "</style>\n",
       "<table border=\"1\" class=\"dataframe\">\n",
       "  <thead>\n",
       "    <tr style=\"text-align: right;\">\n",
       "      <th></th>\n",
       "      <th>_id</th>\n",
       "      <th>id</th>\n",
       "      <th>certificate_number</th>\n",
       "      <th>business_name</th>\n",
       "      <th>date</th>\n",
       "      <th>result</th>\n",
       "      <th>sector</th>\n",
       "      <th>address.city</th>\n",
       "      <th>address.zip</th>\n",
       "      <th>address.street</th>\n",
       "      <th>address.number</th>\n",
       "    </tr>\n",
       "  </thead>\n",
       "  <tbody>\n",
       "    <tr>\n",
       "      <th>0</th>\n",
       "      <td>56d61033a378eccde8a8354f</td>\n",
       "      <td>10021-2015-ENFO</td>\n",
       "      <td>9278806</td>\n",
       "      <td>ATLIXCO DELI GROCERY INC.</td>\n",
       "      <td>2015-02-20</td>\n",
       "      <td>No Violation Issued</td>\n",
       "      <td>Cigarette Retail Dealer - 127</td>\n",
       "      <td>RIDGEWOOD</td>\n",
       "      <td>11385</td>\n",
       "      <td>MENAHAN ST</td>\n",
       "      <td>1712</td>\n",
       "    </tr>\n",
       "    <tr>\n",
       "      <th>1</th>\n",
       "      <td>56d61033a378eccde8a83550</td>\n",
       "      <td>10057-2015-ENFO</td>\n",
       "      <td>6007104</td>\n",
       "      <td>LD BUSINESS SOLUTIONS</td>\n",
       "      <td>2015-02-25</td>\n",
       "      <td>Violation Issued</td>\n",
       "      <td>Tax Preparers - 891</td>\n",
       "      <td>NEW YORK</td>\n",
       "      <td>10030</td>\n",
       "      <td>FREDERICK DOUGLASS BLVD</td>\n",
       "      <td>2655</td>\n",
       "    </tr>\n",
       "    <tr>\n",
       "      <th>2</th>\n",
       "      <td>56d61033a378eccde8a83551</td>\n",
       "      <td>10084-2015-ENFO</td>\n",
       "      <td>9278914</td>\n",
       "      <td>MICHAEL GOMEZ RANGHALL</td>\n",
       "      <td>2015-02-10</td>\n",
       "      <td>No Violation Issued</td>\n",
       "      <td>Locksmith - 062</td>\n",
       "      <td>QUEENS VLG</td>\n",
       "      <td>11427</td>\n",
       "      <td>214TH ST</td>\n",
       "      <td>8823</td>\n",
       "    </tr>\n",
       "    <tr>\n",
       "      <th>3</th>\n",
       "      <td>56d61033a378eccde8a83552</td>\n",
       "      <td>1012-2015-CMPL</td>\n",
       "      <td>5346909</td>\n",
       "      <td>A&amp;C CHIMNEY CORP.</td>\n",
       "      <td>2015-04-22</td>\n",
       "      <td>Violation Issued</td>\n",
       "      <td>Home Improvement Contractor - 100</td>\n",
       "      <td>QUEENS VLG</td>\n",
       "      <td>11428</td>\n",
       "      <td>210TH ST</td>\n",
       "      <td>9440</td>\n",
       "    </tr>\n",
       "    <tr>\n",
       "      <th>4</th>\n",
       "      <td>56d61033a378eccde8a83553</td>\n",
       "      <td>10127-2015-CMPL</td>\n",
       "      <td>5381180</td>\n",
       "      <td>ERIC CONSTRUCTION AND DECORATING INC.</td>\n",
       "      <td>2015-09-08</td>\n",
       "      <td>Violation Issued</td>\n",
       "      <td>Home Improvement Contractor - 100</td>\n",
       "      <td>STATEN ISLAND</td>\n",
       "      <td>10304</td>\n",
       "      <td>TODT HILL RD</td>\n",
       "      <td>1233</td>\n",
       "    </tr>\n",
       "  </tbody>\n",
       "</table>\n",
       "</div>"
      ],
      "text/plain": [
       "                        _id               id certificate_number  \\\n",
       "0  56d61033a378eccde8a8354f  10021-2015-ENFO            9278806   \n",
       "1  56d61033a378eccde8a83550  10057-2015-ENFO            6007104   \n",
       "2  56d61033a378eccde8a83551  10084-2015-ENFO            9278914   \n",
       "3  56d61033a378eccde8a83552   1012-2015-CMPL            5346909   \n",
       "4  56d61033a378eccde8a83553  10127-2015-CMPL            5381180   \n",
       "\n",
       "                           business_name       date               result  \\\n",
       "0              ATLIXCO DELI GROCERY INC. 2015-02-20  No Violation Issued   \n",
       "1                  LD BUSINESS SOLUTIONS 2015-02-25     Violation Issued   \n",
       "2                 MICHAEL GOMEZ RANGHALL 2015-02-10  No Violation Issued   \n",
       "3                      A&C CHIMNEY CORP. 2015-04-22     Violation Issued   \n",
       "4  ERIC CONSTRUCTION AND DECORATING INC. 2015-09-08     Violation Issued   \n",
       "\n",
       "                              sector   address.city address.zip  \\\n",
       "0      Cigarette Retail Dealer - 127      RIDGEWOOD       11385   \n",
       "1                Tax Preparers - 891       NEW YORK       10030   \n",
       "2                    Locksmith - 062     QUEENS VLG       11427   \n",
       "3  Home Improvement Contractor - 100     QUEENS VLG       11428   \n",
       "4  Home Improvement Contractor - 100  STATEN ISLAND       10304   \n",
       "\n",
       "            address.street address.number  \n",
       "0               MENAHAN ST           1712  \n",
       "1  FREDERICK DOUGLASS BLVD           2655  \n",
       "2                 214TH ST           8823  \n",
       "3                 210TH ST           9440  \n",
       "4             TODT HILL RD           1233  "
      ]
     },
     "execution_count": 9,
     "metadata": {},
     "output_type": "execute_result"
    }
   ],
   "source": [
    "df.head()"
   ]
  },
  {
   "cell_type": "code",
   "execution_count": 11,
   "id": "940ee0da",
   "metadata": {},
   "outputs": [
    {
     "name": "stdout",
     "output_type": "stream",
     "text": [
      "<class 'pandas.core.frame.DataFrame'>\n",
      "RangeIndex: 81047 entries, 0 to 81046\n",
      "Data columns (total 11 columns):\n",
      " #   Column              Non-Null Count  Dtype         \n",
      "---  ------              --------------  -----         \n",
      " 0   _id                 81047 non-null  object        \n",
      " 1   id                  81047 non-null  object        \n",
      " 2   certificate_number  81047 non-null  object        \n",
      " 3   business_name       81047 non-null  object        \n",
      " 4   date                81047 non-null  datetime64[ns]\n",
      " 5   result              81047 non-null  object        \n",
      " 6   sector              81047 non-null  object        \n",
      " 7   address.city        81047 non-null  object        \n",
      " 8   address.zip         81047 non-null  object        \n",
      " 9   address.street      81047 non-null  object        \n",
      " 10  address.number      81047 non-null  object        \n",
      "dtypes: datetime64[ns](1), object(10)\n",
      "memory usage: 6.8+ MB\n"
     ]
    }
   ],
   "source": [
    "df.info()"
   ]
  },
  {
   "cell_type": "code",
   "execution_count": 12,
   "id": "b623196a",
   "metadata": {},
   "outputs": [],
   "source": [
    "df['business_name'] = df['business_name'].replace('', float('nan'))"
   ]
  },
  {
   "cell_type": "code",
   "execution_count": 15,
   "id": "e4108984",
   "metadata": {},
   "outputs": [
    {
     "data": {
      "text/plain": [
       "0"
      ]
     },
     "execution_count": 15,
     "metadata": {},
     "output_type": "execute_result"
    }
   ],
   "source": [
    "count = (df['business_name'] == \"\").sum()\n",
    "count"
   ]
  },
  {
   "cell_type": "code",
   "execution_count": 16,
   "id": "8b3a0cb5",
   "metadata": {},
   "outputs": [],
   "source": [
    "df.dropna(subset=['business_name'], inplace=True)"
   ]
  },
  {
   "cell_type": "code",
   "execution_count": 17,
   "id": "2f22925d",
   "metadata": {},
   "outputs": [
    {
     "data": {
      "text/plain": [
       "0"
      ]
     },
     "execution_count": 17,
     "metadata": {},
     "output_type": "execute_result"
    }
   ],
   "source": [
    "df['business_name'].isna().sum()"
   ]
  },
  {
   "cell_type": "code",
   "execution_count": 18,
   "id": "207ac042",
   "metadata": {},
   "outputs": [
    {
     "name": "stdout",
     "output_type": "stream",
     "text": [
      "<class 'pandas.core.frame.DataFrame'>\n",
      "Int64Index: 80838 entries, 0 to 81046\n",
      "Data columns (total 11 columns):\n",
      " #   Column              Non-Null Count  Dtype         \n",
      "---  ------              --------------  -----         \n",
      " 0   _id                 80838 non-null  object        \n",
      " 1   id                  80838 non-null  object        \n",
      " 2   certificate_number  80838 non-null  object        \n",
      " 3   business_name       80838 non-null  object        \n",
      " 4   date                80838 non-null  datetime64[ns]\n",
      " 5   result              80838 non-null  object        \n",
      " 6   sector              80838 non-null  object        \n",
      " 7   address.city        80838 non-null  object        \n",
      " 8   address.zip         80838 non-null  object        \n",
      " 9   address.street      80838 non-null  object        \n",
      " 10  address.number      80838 non-null  object        \n",
      "dtypes: datetime64[ns](1), object(10)\n",
      "memory usage: 7.4+ MB\n"
     ]
    }
   ],
   "source": [
    "df.info()"
   ]
  },
  {
   "cell_type": "code",
   "execution_count": 19,
   "id": "1c9701da",
   "metadata": {},
   "outputs": [],
   "source": [
    "df['sector'] = df['sector'].replace('', float('nan'))"
   ]
  },
  {
   "cell_type": "code",
   "execution_count": 20,
   "id": "e40e0c2e",
   "metadata": {},
   "outputs": [
    {
     "data": {
      "text/plain": [
       "0"
      ]
     },
     "execution_count": 20,
     "metadata": {},
     "output_type": "execute_result"
    }
   ],
   "source": [
    "count = (df['sector'] == \"\").sum()\n",
    "count"
   ]
  },
  {
   "cell_type": "code",
   "execution_count": 21,
   "id": "4feeb306",
   "metadata": {},
   "outputs": [],
   "source": [
    "df.dropna(subset=['sector'], inplace=True)"
   ]
  },
  {
   "cell_type": "code",
   "execution_count": 22,
   "id": "25a0f6ae",
   "metadata": {},
   "outputs": [
    {
     "data": {
      "text/plain": [
       "0"
      ]
     },
     "execution_count": 22,
     "metadata": {},
     "output_type": "execute_result"
    }
   ],
   "source": [
    "df['sector'].isna().sum()"
   ]
  },
  {
   "cell_type": "code",
   "execution_count": 23,
   "id": "d26bd9d7",
   "metadata": {},
   "outputs": [
    {
     "name": "stdout",
     "output_type": "stream",
     "text": [
      "<class 'pandas.core.frame.DataFrame'>\n",
      "Int64Index: 80837 entries, 0 to 81046\n",
      "Data columns (total 11 columns):\n",
      " #   Column              Non-Null Count  Dtype         \n",
      "---  ------              --------------  -----         \n",
      " 0   _id                 80837 non-null  object        \n",
      " 1   id                  80837 non-null  object        \n",
      " 2   certificate_number  80837 non-null  object        \n",
      " 3   business_name       80837 non-null  object        \n",
      " 4   date                80837 non-null  datetime64[ns]\n",
      " 5   result              80837 non-null  object        \n",
      " 6   sector              80837 non-null  object        \n",
      " 7   address.city        80837 non-null  object        \n",
      " 8   address.zip         80837 non-null  object        \n",
      " 9   address.street      80837 non-null  object        \n",
      " 10  address.number      80837 non-null  object        \n",
      "dtypes: datetime64[ns](1), object(10)\n",
      "memory usage: 7.4+ MB\n"
     ]
    }
   ],
   "source": [
    "df.info()"
   ]
  },
  {
   "cell_type": "code",
   "execution_count": 24,
   "id": "91fb7f09",
   "metadata": {},
   "outputs": [],
   "source": [
    "from sklearn.model_selection import train_test_split\n",
    "from sklearn.feature_extraction.text import TfidfVectorizer\n",
    "from sklearn.pipeline import Pipeline\n",
    "from sklearn.svm import LinearSVC\n",
    "from sklearn.metrics import accuracy_score, classification_report"
   ]
  },
  {
   "cell_type": "code",
   "execution_count": 32,
   "id": "14629bcd",
   "metadata": {},
   "outputs": [],
   "source": [
    "X = df['business_name']\n",
    "y = df['sector']"
   ]
  },
  {
   "cell_type": "code",
   "execution_count": 33,
   "id": "7ba5ee6f",
   "metadata": {},
   "outputs": [],
   "source": [
    "X_train, X_test, y_train, y_test = train_test_split(X, y, test_size=0.2, random_state=1)\n"
   ]
  },
  {
   "cell_type": "code",
   "execution_count": 34,
   "id": "c8d30635",
   "metadata": {},
   "outputs": [],
   "source": [
    "pipeline = Pipeline([\n",
    "    ('tfidf', TfidfVectorizer()),\n",
    "    ('clf', LinearSVC())\n",
    "])\n"
   ]
  },
  {
   "cell_type": "code",
   "execution_count": 35,
   "id": "e3fb4f12",
   "metadata": {},
   "outputs": [
    {
     "data": {
      "text/plain": [
       "Pipeline(steps=[('tfidf', TfidfVectorizer()), ('clf', LinearSVC())])"
      ]
     },
     "execution_count": 35,
     "metadata": {},
     "output_type": "execute_result"
    }
   ],
   "source": [
    "pipeline.fit(X_train, y_train)\n"
   ]
  },
  {
   "cell_type": "code",
   "execution_count": 38,
   "id": "cccbac0a",
   "metadata": {},
   "outputs": [],
   "source": [
    "y_pred = pipeline.predict(X_test)"
   ]
  },
  {
   "cell_type": "code",
   "execution_count": 39,
   "id": "afefa8a1",
   "metadata": {},
   "outputs": [
    {
     "name": "stdout",
     "output_type": "stream",
     "text": [
      "Accuracy: 0.5839930727362692\n"
     ]
    }
   ],
   "source": [
    "accuracy = accuracy_score(y_test, y_pred)\n",
    "print(\"Accuracy:\", accuracy)\n"
   ]
  },
  {
   "cell_type": "code",
   "execution_count": 41,
   "id": "9d533e9c",
   "metadata": {},
   "outputs": [],
   "source": [
    "from sklearn.ensemble import RandomForestClassifier"
   ]
  },
  {
   "cell_type": "code",
   "execution_count": 42,
   "id": "1bb2947c",
   "metadata": {},
   "outputs": [],
   "source": [
    "X_train, X_test, y_train, y_test = train_test_split(X, y, test_size=0.2, random_state=1)"
   ]
  },
  {
   "cell_type": "code",
   "execution_count": 80,
   "id": "eb9d8d30",
   "metadata": {},
   "outputs": [],
   "source": [
    "pipeline = Pipeline([\n",
    "    ('tfidf', TfidfVectorizer()),\n",
    "    ('clf', RandomForestClassifier())\n",
    "])"
   ]
  },
  {
   "cell_type": "code",
   "execution_count": 81,
   "id": "cf65db52",
   "metadata": {},
   "outputs": [
    {
     "data": {
      "text/plain": [
       "Pipeline(steps=[('tfidf', TfidfVectorizer()),\n",
       "                ('clf', RandomForestClassifier())])"
      ]
     },
     "execution_count": 81,
     "metadata": {},
     "output_type": "execute_result"
    }
   ],
   "source": [
    "pipeline.fit(X_train, y_train)"
   ]
  },
  {
   "cell_type": "code",
   "execution_count": 82,
   "id": "58b61dde",
   "metadata": {},
   "outputs": [],
   "source": [
    "y_pred = pipeline.predict(X_test)"
   ]
  },
  {
   "cell_type": "code",
   "execution_count": 83,
   "id": "7e07f763",
   "metadata": {},
   "outputs": [
    {
     "name": "stdout",
     "output_type": "stream",
     "text": [
      "Accuracy: 0.6324483775811209\n"
     ]
    }
   ],
   "source": [
    "accuracy = accuracy_score(y_test, y_pred)\n",
    "print(\"Accuracy:\", accuracy)"
   ]
  },
  {
   "cell_type": "code",
   "execution_count": 47,
   "id": "274f6f71",
   "metadata": {},
   "outputs": [],
   "source": [
    "sector_counts = df['sector'].value_counts()"
   ]
  },
  {
   "cell_type": "code",
   "execution_count": 134,
   "id": "7e131d1f",
   "metadata": {},
   "outputs": [
    {
     "data": {
      "text/plain": [
       "Cigarette Retail Dealer - 127    22971\n",
       "Grocery-Retail - 808             11603\n",
       "Misc Non-Food Retail - 817        7588\n",
       "Salons And Barbershop - 841       5069\n",
       "Wearing Apparel - 450             2656\n",
       "                                 ...  \n",
       "Debt Collection Agency - 122         1\n",
       "Imitation Gun - 836                  1\n",
       "Hotel/Motel - 460                    1\n",
       "Spray Paint Sls Mnor - 832           1\n",
       "Appliances - 244                     1\n",
       "Name: sector, Length: 85, dtype: int64"
      ]
     },
     "execution_count": 134,
     "metadata": {},
     "output_type": "execute_result"
    }
   ],
   "source": [
    "sector_counts"
   ]
  },
  {
   "cell_type": "code",
   "execution_count": 49,
   "id": "3ad4f2cf",
   "metadata": {},
   "outputs": [],
   "source": [
    "Q1 = sector_counts.quantile(0.25)\n",
    "Q3 = sector_counts.quantile(0.75)\n",
    "IQR = Q3 - Q1"
   ]
  },
  {
   "cell_type": "code",
   "execution_count": 50,
   "id": "c065198d",
   "metadata": {},
   "outputs": [],
   "source": [
    "lower_bound = Q1 - 1.5 * IQR\n",
    "upper_bound = Q3 + 1.5 * IQR"
   ]
  },
  {
   "cell_type": "code",
   "execution_count": 51,
   "id": "8a321a68",
   "metadata": {},
   "outputs": [
    {
     "name": "stdout",
     "output_type": "stream",
     "text": [
      "-1066.0\n",
      "1806.0\n"
     ]
    }
   ],
   "source": [
    "print(lower_bound)\n",
    "print(upper_bound)"
   ]
  },
  {
   "cell_type": "code",
   "execution_count": 52,
   "id": "5ff448de",
   "metadata": {},
   "outputs": [
    {
     "name": "stdout",
     "output_type": "stream",
     "text": [
      "718.0\n"
     ]
    }
   ],
   "source": [
    "print(IQR)"
   ]
  },
  {
   "cell_type": "code",
   "execution_count": 53,
   "id": "38f9f621",
   "metadata": {},
   "outputs": [
    {
     "name": "stdout",
     "output_type": "stream",
     "text": [
      "11.0\n"
     ]
    }
   ],
   "source": [
    "print(Q1)"
   ]
  },
  {
   "cell_type": "code",
   "execution_count": 54,
   "id": "c5ea5b30",
   "metadata": {},
   "outputs": [
    {
     "data": {
      "text/plain": [
       "729.0"
      ]
     },
     "execution_count": 54,
     "metadata": {},
     "output_type": "execute_result"
    }
   ],
   "source": [
    "Q3"
   ]
  },
  {
   "cell_type": "code",
   "execution_count": 144,
   "id": "eb4a4ea7",
   "metadata": {},
   "outputs": [
    {
     "data": {
      "text/html": [
       "<div>\n",
       "<style scoped>\n",
       "    .dataframe tbody tr th:only-of-type {\n",
       "        vertical-align: middle;\n",
       "    }\n",
       "\n",
       "    .dataframe tbody tr th {\n",
       "        vertical-align: top;\n",
       "    }\n",
       "\n",
       "    .dataframe thead th {\n",
       "        text-align: right;\n",
       "    }\n",
       "</style>\n",
       "<table border=\"1\" class=\"dataframe\">\n",
       "  <thead>\n",
       "    <tr style=\"text-align: right;\">\n",
       "      <th></th>\n",
       "      <th>_id</th>\n",
       "      <th>id</th>\n",
       "      <th>certificate_number</th>\n",
       "      <th>business_name</th>\n",
       "      <th>date</th>\n",
       "      <th>result</th>\n",
       "      <th>sector</th>\n",
       "      <th>address.city</th>\n",
       "      <th>address.zip</th>\n",
       "      <th>address.street</th>\n",
       "      <th>address.number</th>\n",
       "    </tr>\n",
       "  </thead>\n",
       "  <tbody>\n",
       "    <tr>\n",
       "      <th>0</th>\n",
       "      <td>56d61033a378eccde8a8354f</td>\n",
       "      <td>10021-2015-ENFO</td>\n",
       "      <td>9278806</td>\n",
       "      <td>ATLIXCO DELI GROCERY INC.</td>\n",
       "      <td>2015-02-20</td>\n",
       "      <td>No Violation Issued</td>\n",
       "      <td>Cigarette Retail Dealer - 127</td>\n",
       "      <td>RIDGEWOOD</td>\n",
       "      <td>11385</td>\n",
       "      <td>MENAHAN ST</td>\n",
       "      <td>1712</td>\n",
       "    </tr>\n",
       "    <tr>\n",
       "      <th>5</th>\n",
       "      <td>56d61033a378eccde8a83554</td>\n",
       "      <td>10172-2015-CMPL</td>\n",
       "      <td>9304489</td>\n",
       "      <td>UNNAMED HOT DOG VENDOR LICENSE NUMBER TA01158</td>\n",
       "      <td>2015-08-21</td>\n",
       "      <td>No Violation Issued</td>\n",
       "      <td>Mobile Food Vendor - 881</td>\n",
       "      <td></td>\n",
       "      <td></td>\n",
       "      <td></td>\n",
       "      <td></td>\n",
       "    </tr>\n",
       "    <tr>\n",
       "      <th>7</th>\n",
       "      <td>56d61033a378eccde8a83556</td>\n",
       "      <td>10268-2015-CMPL</td>\n",
       "      <td>9304816</td>\n",
       "      <td>UNNAMED HOT DOG VENDOR NO LICENSE NUMBER PROVIDED</td>\n",
       "      <td>2015-08-19</td>\n",
       "      <td>No Violation Issued</td>\n",
       "      <td>Mobile Food Vendor - 881</td>\n",
       "      <td></td>\n",
       "      <td></td>\n",
       "      <td></td>\n",
       "      <td></td>\n",
       "    </tr>\n",
       "    <tr>\n",
       "      <th>8</th>\n",
       "      <td>56d61033a378eccde8a83557</td>\n",
       "      <td>10284-2015-ENFO</td>\n",
       "      <td>9287088</td>\n",
       "      <td>VYACHESLAV KANDZHANOV</td>\n",
       "      <td>2015-02-25</td>\n",
       "      <td>No Violation Issued</td>\n",
       "      <td>Misc Non-Food Retail - 817</td>\n",
       "      <td>NEW YORK</td>\n",
       "      <td>10030</td>\n",
       "      <td>FREDRCK D BLVD</td>\n",
       "      <td>2655</td>\n",
       "    </tr>\n",
       "    <tr>\n",
       "      <th>9</th>\n",
       "      <td>56d61033a378eccde8a83558</td>\n",
       "      <td>10312-2015-ENFO</td>\n",
       "      <td>9287090</td>\n",
       "      <td>GRICEYDA M VILLAR</td>\n",
       "      <td>2015-02-25</td>\n",
       "      <td>No Violation Issued</td>\n",
       "      <td>Salons And Barbershop - 841</td>\n",
       "      <td>NEW YORK</td>\n",
       "      <td>10030</td>\n",
       "      <td>FREDRCK D BLVD</td>\n",
       "      <td>2645</td>\n",
       "    </tr>\n",
       "    <tr>\n",
       "      <th>...</th>\n",
       "      <td>...</td>\n",
       "      <td>...</td>\n",
       "      <td>...</td>\n",
       "      <td>...</td>\n",
       "      <td>...</td>\n",
       "      <td>...</td>\n",
       "      <td>...</td>\n",
       "      <td>...</td>\n",
       "      <td>...</td>\n",
       "      <td>...</td>\n",
       "      <td>...</td>\n",
       "    </tr>\n",
       "    <tr>\n",
       "      <th>81041</th>\n",
       "      <td>56d61035a378eccde8a971e0</td>\n",
       "      <td>5809-2016-ENFO</td>\n",
       "      <td>5389448</td>\n",
       "      <td>PARADISE DELI GROCERY CORP.</td>\n",
       "      <td>2016-01-21</td>\n",
       "      <td>Violation Issued</td>\n",
       "      <td>Grocery-Retail - 808</td>\n",
       "      <td>NEW YORK</td>\n",
       "      <td>10012</td>\n",
       "      <td>MULBERRY ST</td>\n",
       "      <td>243</td>\n",
       "    </tr>\n",
       "    <tr>\n",
       "      <th>81042</th>\n",
       "      <td>56d61035a378eccde8a971e1</td>\n",
       "      <td>5821-2016-ENFO</td>\n",
       "      <td>5391052</td>\n",
       "      <td>SHARON, JOSEPH</td>\n",
       "      <td>2016-01-20</td>\n",
       "      <td>Violation Issued</td>\n",
       "      <td>Stoop Line Stand - 033</td>\n",
       "      <td>BROOKLYN</td>\n",
       "      <td>11235</td>\n",
       "      <td>BRIGHTON BEACH AVE</td>\n",
       "      <td>1023</td>\n",
       "    </tr>\n",
       "    <tr>\n",
       "      <th>81043</th>\n",
       "      <td>56d61035a378eccde8a971e2</td>\n",
       "      <td>5543-2016-ENFO</td>\n",
       "      <td>9324981</td>\n",
       "      <td>TWO BROTHERS FASHION LTD</td>\n",
       "      <td>2016-01-20</td>\n",
       "      <td>No Violation Issued</td>\n",
       "      <td>Misc Non-Food Retail - 817</td>\n",
       "      <td>JACKSON HEIGHTS</td>\n",
       "      <td>11372</td>\n",
       "      <td>ROOSEVELT AVE</td>\n",
       "      <td>8503</td>\n",
       "    </tr>\n",
       "    <tr>\n",
       "      <th>81044</th>\n",
       "      <td>56d61035a378eccde8a971e3</td>\n",
       "      <td>10192-2016-ENFO</td>\n",
       "      <td>5393182</td>\n",
       "      <td>PIEROTTI, ESTEBAN A.</td>\n",
       "      <td>2015-12-16</td>\n",
       "      <td>Violation Issued</td>\n",
       "      <td>Pedicab Business - 130</td>\n",
       "      <td>NEW YORK</td>\n",
       "      <td>10019</td>\n",
       "      <td>WEST   59 STREET</td>\n",
       "      <td></td>\n",
       "    </tr>\n",
       "    <tr>\n",
       "      <th>81045</th>\n",
       "      <td>56d61035a378eccde8a971e4</td>\n",
       "      <td>4982-2016-ENFO</td>\n",
       "      <td>50066535</td>\n",
       "      <td>SOHO GARDEN, INC.</td>\n",
       "      <td>2016-01-22</td>\n",
       "      <td>No Violation Issued</td>\n",
       "      <td>Cigarette Retail Dealer - 127</td>\n",
       "      <td>NEW YORK</td>\n",
       "      <td>10012</td>\n",
       "      <td>PRINCE ST</td>\n",
       "      <td>40</td>\n",
       "    </tr>\n",
       "  </tbody>\n",
       "</table>\n",
       "<p>69624 rows × 11 columns</p>\n",
       "</div>"
      ],
      "text/plain": [
       "                            _id               id certificate_number  \\\n",
       "0      56d61033a378eccde8a8354f  10021-2015-ENFO            9278806   \n",
       "5      56d61033a378eccde8a83554  10172-2015-CMPL            9304489   \n",
       "7      56d61033a378eccde8a83556  10268-2015-CMPL            9304816   \n",
       "8      56d61033a378eccde8a83557  10284-2015-ENFO            9287088   \n",
       "9      56d61033a378eccde8a83558  10312-2015-ENFO            9287090   \n",
       "...                         ...              ...                ...   \n",
       "81041  56d61035a378eccde8a971e0   5809-2016-ENFO            5389448   \n",
       "81042  56d61035a378eccde8a971e1   5821-2016-ENFO            5391052   \n",
       "81043  56d61035a378eccde8a971e2   5543-2016-ENFO            9324981   \n",
       "81044  56d61035a378eccde8a971e3  10192-2016-ENFO            5393182   \n",
       "81045  56d61035a378eccde8a971e4   4982-2016-ENFO           50066535   \n",
       "\n",
       "                                           business_name       date  \\\n",
       "0                              ATLIXCO DELI GROCERY INC. 2015-02-20   \n",
       "5          UNNAMED HOT DOG VENDOR LICENSE NUMBER TA01158 2015-08-21   \n",
       "7      UNNAMED HOT DOG VENDOR NO LICENSE NUMBER PROVIDED 2015-08-19   \n",
       "8                                  VYACHESLAV KANDZHANOV 2015-02-25   \n",
       "9                                      GRICEYDA M VILLAR 2015-02-25   \n",
       "...                                                  ...        ...   \n",
       "81041                        PARADISE DELI GROCERY CORP. 2016-01-21   \n",
       "81042                                     SHARON, JOSEPH 2016-01-20   \n",
       "81043                           TWO BROTHERS FASHION LTD 2016-01-20   \n",
       "81044                               PIEROTTI, ESTEBAN A. 2015-12-16   \n",
       "81045                                  SOHO GARDEN, INC. 2016-01-22   \n",
       "\n",
       "                    result                         sector     address.city  \\\n",
       "0      No Violation Issued  Cigarette Retail Dealer - 127        RIDGEWOOD   \n",
       "5      No Violation Issued       Mobile Food Vendor - 881                    \n",
       "7      No Violation Issued       Mobile Food Vendor - 881                    \n",
       "8      No Violation Issued     Misc Non-Food Retail - 817         NEW YORK   \n",
       "9      No Violation Issued    Salons And Barbershop - 841         NEW YORK   \n",
       "...                    ...                            ...              ...   \n",
       "81041     Violation Issued           Grocery-Retail - 808         NEW YORK   \n",
       "81042     Violation Issued         Stoop Line Stand - 033         BROOKLYN   \n",
       "81043  No Violation Issued     Misc Non-Food Retail - 817  JACKSON HEIGHTS   \n",
       "81044     Violation Issued         Pedicab Business - 130         NEW YORK   \n",
       "81045  No Violation Issued  Cigarette Retail Dealer - 127         NEW YORK   \n",
       "\n",
       "      address.zip      address.street address.number  \n",
       "0           11385          MENAHAN ST           1712  \n",
       "5                                                     \n",
       "7                                                     \n",
       "8           10030      FREDRCK D BLVD           2655  \n",
       "9           10030      FREDRCK D BLVD           2645  \n",
       "...           ...                 ...            ...  \n",
       "81041       10012         MULBERRY ST            243  \n",
       "81042       11235  BRIGHTON BEACH AVE           1023  \n",
       "81043       11372       ROOSEVELT AVE           8503  \n",
       "81044       10019    WEST   59 STREET                 \n",
       "81045       10012           PRINCE ST             40  \n",
       "\n",
       "[69624 rows x 11 columns]"
      ]
     },
     "execution_count": 144,
     "metadata": {},
     "output_type": "execute_result"
    }
   ],
   "source": [
    "df = df[df['sector'].map(sector_counts) > 1000]\n",
    "df"
   ]
  },
  {
   "cell_type": "code",
   "execution_count": 85,
   "id": "6d18382d",
   "metadata": {},
   "outputs": [],
   "source": [
    "X = df_filtered['business_name']\n",
    "y = df_filtered['sector']"
   ]
  },
  {
   "cell_type": "code",
   "execution_count": 74,
   "id": "e40963ed",
   "metadata": {},
   "outputs": [],
   "source": [
    "X_train, X_test, y_train, y_test = train_test_split(X, y, test_size=0.2, random_state=1)\n"
   ]
  },
  {
   "cell_type": "code",
   "execution_count": 75,
   "id": "25f8a71e",
   "metadata": {},
   "outputs": [],
   "source": [
    "pipeline = Pipeline([\n",
    "    ('tfidf', TfidfVectorizer()),\n",
    "    ('clf', LinearSVC())\n",
    "])\n"
   ]
  },
  {
   "cell_type": "code",
   "execution_count": 76,
   "id": "19496777",
   "metadata": {},
   "outputs": [
    {
     "data": {
      "text/plain": [
       "Pipeline(steps=[('tfidf', TfidfVectorizer()), ('clf', LinearSVC())])"
      ]
     },
     "execution_count": 76,
     "metadata": {},
     "output_type": "execute_result"
    }
   ],
   "source": [
    "pipeline.fit(X_train, y_train)"
   ]
  },
  {
   "cell_type": "code",
   "execution_count": 77,
   "id": "98950ab1",
   "metadata": {},
   "outputs": [],
   "source": [
    "y_pred = pipeline.predict(X_test)"
   ]
  },
  {
   "cell_type": "code",
   "execution_count": 78,
   "id": "fe9989ee",
   "metadata": {},
   "outputs": [
    {
     "name": "stdout",
     "output_type": "stream",
     "text": [
      "Accuracy: 0.6471976401179941\n"
     ]
    }
   ],
   "source": [
    "accuracy = accuracy_score(y_test, y_pred)\n",
    "print(\"Accuracy:\", accuracy)\n"
   ]
  },
  {
   "cell_type": "code",
   "execution_count": 84,
   "id": "58658cf3",
   "metadata": {},
   "outputs": [
    {
     "data": {
      "text/plain": [
       "array(['Salons And Barbershop - 841'], dtype=object)"
      ]
     },
     "execution_count": 84,
     "metadata": {},
     "output_type": "execute_result"
    }
   ],
   "source": [
    "test = ['YONG CONSTRCUCTION COMPANY']\n",
    "test_pred = pipeline.predict(test)\n",
    "test_pred"
   ]
  },
  {
   "cell_type": "code",
   "execution_count": 86,
   "id": "788c818c",
   "metadata": {},
   "outputs": [],
   "source": [
    "from sklearn.feature_extraction.text import TfidfVectorizer\n",
    "from sklearn.naive_bayes import MultinomialNB\n",
    "from sklearn.model_selection import train_test_split\n",
    "from sklearn.metrics import accuracy_score"
   ]
  },
  {
   "cell_type": "code",
   "execution_count": 126,
   "id": "2f3e828c",
   "metadata": {},
   "outputs": [],
   "source": [
    "X = df_filtered['business_name']\n",
    "y = df_filtered['sector']"
   ]
  },
  {
   "cell_type": "code",
   "execution_count": 127,
   "id": "ff13dab2",
   "metadata": {},
   "outputs": [],
   "source": [
    "X_train, X_test, y_train, y_test = train_test_split(X, y, test_size=0.2, random_state=42)"
   ]
  },
  {
   "cell_type": "code",
   "execution_count": 128,
   "id": "5e7196fc",
   "metadata": {},
   "outputs": [],
   "source": [
    "vectorizer = TfidfVectorizer()"
   ]
  },
  {
   "cell_type": "code",
   "execution_count": 129,
   "id": "11de6c92",
   "metadata": {},
   "outputs": [],
   "source": [
    "X_train_vec = vectorizer.fit_transform(X_train)"
   ]
  },
  {
   "cell_type": "code",
   "execution_count": 130,
   "id": "1a72c0ba",
   "metadata": {},
   "outputs": [
    {
     "data": {
      "text/plain": [
       "MultinomialNB()"
      ]
     },
     "execution_count": 130,
     "metadata": {},
     "output_type": "execute_result"
    }
   ],
   "source": [
    "nb_classifier = MultinomialNB()\n",
    "nb_classifier.fit(X_train_vec, y_train)"
   ]
  },
  {
   "cell_type": "code",
   "execution_count": 131,
   "id": "2e25d204",
   "metadata": {},
   "outputs": [],
   "source": [
    "X_test_vec = vectorizer.transform(X_test)"
   ]
  },
  {
   "cell_type": "code",
   "execution_count": 132,
   "id": "e186cc22",
   "metadata": {},
   "outputs": [],
   "source": [
    "y_pred = nb_classifier.predict(X_test_vec)"
   ]
  },
  {
   "cell_type": "code",
   "execution_count": 133,
   "id": "c25d3bf1",
   "metadata": {},
   "outputs": [
    {
     "name": "stdout",
     "output_type": "stream",
     "text": [
      "Accuracy: 0.6666666666666666\n"
     ]
    }
   ],
   "source": [
    "accuracy = accuracy_score(y_test, y_pred)\n",
    "print(\"Accuracy:\", accuracy)"
   ]
  },
  {
   "cell_type": "code",
   "execution_count": 136,
   "id": "00bf6157",
   "metadata": {},
   "outputs": [],
   "source": [
    "from sklearn.model_selection import train_test_split\n",
    "from sklearn.tree import DecisionTreeClassifier\n",
    "from sklearn.metrics import classification_report\n",
    "from sklearn.preprocessing import LabelEncoder\n",
    "from sklearn.feature_extraction.text import CountVectorizer"
   ]
  },
  {
   "cell_type": "code",
   "execution_count": 145,
   "id": "30648815",
   "metadata": {},
   "outputs": [],
   "source": [
    "business_names = []\n",
    "sector_names = []\n",
    "\n",
    "for shop in data:\n",
    "    business_name = shop['business_name']\n",
    "    sector_name = shop['sector']\n",
    "    business_names.append(business_name)\n",
    "    sector_names.append(sector_name)"
   ]
  },
  {
   "cell_type": "code",
   "execution_count": 147,
   "id": "da252ec7",
   "metadata": {},
   "outputs": [],
   "source": [
    "vectorizer = CountVectorizer()\n",
    "business_features = vectorizer.fit_transform(business_names)"
   ]
  },
  {
   "cell_type": "code",
   "execution_count": 148,
   "id": "679ec1e8",
   "metadata": {},
   "outputs": [
    {
     "data": {
      "text/plain": [
       "DecisionTreeClassifier()"
      ]
     },
     "execution_count": 148,
     "metadata": {},
     "output_type": "execute_result"
    }
   ],
   "source": [
    "classifier = DecisionTreeClassifier()\n",
    "classifier.fit(business_features, sector_names)"
   ]
  },
  {
   "cell_type": "code",
   "execution_count": 149,
   "id": "c32735b2",
   "metadata": {},
   "outputs": [
    {
     "name": "stdout",
     "output_type": "stream",
     "text": [
      "Accuracy: 0.8252618850790282\n"
     ]
    }
   ],
   "source": [
    "accuracy = classifier.score(business_features, sector_names)\n",
    "print('Accuracy:', accuracy)"
   ]
  },
  {
   "cell_type": "code",
   "execution_count": 152,
   "id": "b81382a3",
   "metadata": {},
   "outputs": [
    {
     "name": "stdout",
     "output_type": "stream",
     "text": [
      "Predicted Sector: ['Restaurant - 818']\n"
     ]
    }
   ],
   "source": [
    "new_business_name = ['YONG RESTAURANT']\n",
    "new_business_name_vectors = vectorizer.transform(new_business_name)\n",
    "predicted_sector = classifier.predict(new_business_name_vectors)\n",
    "print('Predicted Sector:', predicted_sector)"
   ]
  },
  {
   "cell_type": "code",
   "execution_count": 153,
   "id": "d42d9e76",
   "metadata": {},
   "outputs": [
    {
     "name": "stdout",
     "output_type": "stream",
     "text": [
      "Predicted Sector: ['Grocery-Retail - 808']\n"
     ]
    }
   ],
   "source": [
    "new_business_name = ['X GROCERY']\n",
    "new_business_name_vectors = vectorizer.transform(new_business_name)\n",
    "predicted_sector = classifier.predict(new_business_name_vectors)\n",
    "print('Predicted Sector:', predicted_sector)"
   ]
  },
  {
   "cell_type": "code",
   "execution_count": 162,
   "id": "244bb1bc",
   "metadata": {},
   "outputs": [
    {
     "name": "stdout",
     "output_type": "stream",
     "text": [
      "Predicted Sector: ['Home Improvement Contractor - 100']\n"
     ]
    }
   ],
   "source": [
    "new_business_name = ['A CONSTRUCTION COMPANY']\n",
    "new_business_name_vectors = vectorizer.transform(new_business_name)\n",
    "predicted_sector = classifier.predict(new_business_name_vectors)\n",
    "print('Predicted Sector:', predicted_sector)"
   ]
  },
  {
   "cell_type": "code",
   "execution_count": null,
   "id": "491dde72",
   "metadata": {},
   "outputs": [],
   "source": []
  }
 ],
 "metadata": {
  "kernelspec": {
   "display_name": "Python 3 (ipykernel)",
   "language": "python",
   "name": "python3"
  },
  "language_info": {
   "codemirror_mode": {
    "name": "ipython",
    "version": 3
   },
   "file_extension": ".py",
   "mimetype": "text/x-python",
   "name": "python",
   "nbconvert_exporter": "python",
   "pygments_lexer": "ipython3",
   "version": "3.9.13"
  }
 },
 "nbformat": 4,
 "nbformat_minor": 5
}
