{
 "cells": [
  {
   "cell_type": "markdown",
   "id": "c4a5bb8a",
   "metadata": {},
   "source": [
    "### Step 1: Load JSON data"
   ]
  },
  {
   "cell_type": "code",
   "execution_count": 1,
   "id": "881cbd55",
   "metadata": {},
   "outputs": [
    {
     "name": "stdout",
     "output_type": "stream",
     "text": [
      "{'_id': {'$oid': '5c8eccb0caa187d17ca623f5'}, 'text': 'eu preciso de terminar de fazer a minha tabela, está muito foda **', 'in_reply_to_status_id': None, 'retweet_count': None, 'contributors': None, 'created_at': 'Thu Sep 02 18:11:23 +0000 2010', 'geo': None, 'source': 'web', 'coordinates': None, 'in_reply_to_screen_name': None, 'truncated': False, 'entities': {'user_mentions': [], 'urls': [], 'hashtags': []}, 'retweeted': False, 'place': None, 'user': {'friends_count': {'$numberInt': '73'}, 'profile_sidebar_fill_color': '768575', 'location': '', 'verified': False, 'follow_request_sent': None, 'favourites_count': {'$numberInt': '1'}, 'profile_sidebar_border_color': '1c9dbd', 'profile_image_url': 'http://a2.twimg.com/profile_images/1036412454/OgAAADXK9q6kaxrvfwQTINH66RVLAH9YHb-veRTA4FaWb9KtbGGV_yKTGzmvzTfJidqAb5gK_mpspIE-MIvAASGH2CwAm1T1UIPQk0-HS8x_TV5kdnW30nch7ODk-1_normal.jpg', 'geo_enabled': False, 'created_at': 'Fri Jul 03 21:44:05 +0000 2009', 'description': 'só os loucos sabem (:', 'time_zone': 'Brasilia', 'url': 'http://http://www.orkut.com.br/Main#Profile?uid=1433295880233078770', 'screen_name': 'Bia_cunha1', 'notifications': None, 'profile_background_color': '081114', 'listed_count': {'$numberInt': '0'}, 'lang': 'en', 'profile_background_image_url': 'http://a1.twimg.com/profile_background_images/133178546/biatwitter.jpg', 'statuses_count': {'$numberInt': '3504'}, 'following': None, 'profile_text_color': '25b8c2', 'protected': False, 'show_all_inline_media': False, 'profile_background_tile': True, 'name': 'Beatriz Helena Cunha', 'contributors_enabled': False, 'profile_link_color': 'eb55b6', 'followers_count': {'$numberInt': '102'}, 'id': {'$numberInt': '53507833'}, 'profile_use_background_image': True, 'utc_offset': {'$numberInt': '-10800'}}, 'favorited': False, 'in_reply_to_user_id': None, 'id': {'$numberLong': '22819396900'}}\n"
     ]
    }
   ],
   "source": [
    "import json\n",
    "import pandas as pd\n",
    "\n",
    "with open('modified_tweets.json', encoding='utf-8') as file:\n",
    "    data = json.load(file)\n",
    "    \n",
    "print(data[0])"
   ]
  },
  {
   "cell_type": "markdown",
   "id": "4b36e1b8",
   "metadata": {},
   "source": [
    "### Step 2: Understand the data structure"
   ]
  },
  {
   "cell_type": "code",
   "execution_count": 2,
   "id": "3e7e27ff",
   "metadata": {},
   "outputs": [
    {
     "name": "stdout",
     "output_type": "stream",
     "text": [
      "<class 'pandas.core.frame.DataFrame'>\n",
      "RangeIndex: 24832 entries, 0 to 24831\n",
      "Data columns (total 19 columns):\n",
      " #   Column                   Non-Null Count  Dtype \n",
      "---  ------                   --------------  ----- \n",
      " 0   _id                      24832 non-null  object\n",
      " 1   text                     24832 non-null  object\n",
      " 2   in_reply_to_status_id    6790 non-null   object\n",
      " 3   retweet_count            0 non-null      object\n",
      " 4   contributors             0 non-null      object\n",
      " 5   created_at               24832 non-null  object\n",
      " 6   geo                      159 non-null    object\n",
      " 7   source                   24832 non-null  object\n",
      " 8   coordinates              159 non-null    object\n",
      " 9   in_reply_to_screen_name  8116 non-null   object\n",
      " 10  truncated                24832 non-null  bool  \n",
      " 11  entities                 24832 non-null  object\n",
      " 12  retweeted                24832 non-null  bool  \n",
      " 13  place                    187 non-null    object\n",
      " 14  user                     24832 non-null  object\n",
      " 15  favorited                24832 non-null  bool  \n",
      " 16  in_reply_to_user_id      8116 non-null   object\n",
      " 17  id                       24832 non-null  object\n",
      " 18  retweeted_status         2045 non-null   object\n",
      "dtypes: bool(3), object(16)\n",
      "memory usage: 3.1+ MB\n"
     ]
    }
   ],
   "source": [
    "df = pd.DataFrame(data)\n",
    "df.info()"
   ]
  },
  {
   "cell_type": "markdown",
   "id": "80eaf3eb",
   "metadata": {},
   "source": [
    "### Step 3: Select the features"
   ]
  },
  {
   "cell_type": "code",
   "execution_count": 3,
   "id": "d8d8c5e0",
   "metadata": {},
   "outputs": [],
   "source": [
    "selected_columns = ['text', 'source', 'entities', 'user']\n",
    "filtered_data = [{column: record[column] for column in selected_columns} for record in data]"
   ]
  },
  {
   "cell_type": "code",
   "execution_count": 4,
   "id": "d8befc12",
   "metadata": {},
   "outputs": [
    {
     "name": "stdout",
     "output_type": "stream",
     "text": [
      "<class 'pandas.core.frame.DataFrame'>\n",
      "RangeIndex: 24832 entries, 0 to 24831\n",
      "Data columns (total 4 columns):\n",
      " #   Column    Non-Null Count  Dtype \n",
      "---  ------    --------------  ----- \n",
      " 0   text      24832 non-null  object\n",
      " 1   source    24832 non-null  object\n",
      " 2   entities  24832 non-null  object\n",
      " 3   user      24832 non-null  object\n",
      "dtypes: object(4)\n",
      "memory usage: 776.1+ KB\n"
     ]
    }
   ],
   "source": [
    "df = pd.DataFrame(filtered_data)\n",
    "df.info()"
   ]
  },
  {
   "cell_type": "markdown",
   "id": "2065d3e0",
   "metadata": {},
   "source": [
    "### Step 4: Clean the data"
   ]
  },
  {
   "cell_type": "code",
   "execution_count": 7,
   "id": "c288db44",
   "metadata": {},
   "outputs": [
    {
     "data": {
      "text/plain": [
       "text        0\n",
       "source      0\n",
       "entities    0\n",
       "user        0\n",
       "dtype: int64"
      ]
     },
     "execution_count": 7,
     "metadata": {},
     "output_type": "execute_result"
    }
   ],
   "source": [
    "df.isna().sum()"
   ]
  }
 ],
 "metadata": {
  "kernelspec": {
   "display_name": "Python 3 (ipykernel)",
   "language": "python",
   "name": "python3"
  },
  "language_info": {
   "codemirror_mode": {
    "name": "ipython",
    "version": 3
   },
   "file_extension": ".py",
   "mimetype": "text/x-python",
   "name": "python",
   "nbconvert_exporter": "python",
   "pygments_lexer": "ipython3",
   "version": "3.9.13"
  }
 },
 "nbformat": 4,
 "nbformat_minor": 5
}
