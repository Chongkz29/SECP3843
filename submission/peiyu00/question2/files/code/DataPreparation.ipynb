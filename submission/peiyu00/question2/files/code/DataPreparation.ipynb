{
 "cells": [
  {
   "cell_type": "markdown",
   "id": "761c6999",
   "metadata": {},
   "source": [
    "### Convert the format of JSON file into JSON array structure."
   ]
  },
  {
   "cell_type": "code",
   "execution_count": 3,
   "id": "8d0b1853",
   "metadata": {},
   "outputs": [],
   "source": [
    "import json\n",
    "\n",
    "# Open the original JSON file with the correct encoding\n",
    "with open('tweets.json', 'r', encoding='utf-8') as file:\n",
    "    data = file.readlines()\n",
    "\n",
    "# Modify the data to add square brackets\n",
    "modified_data = '[' + ','.join(data) + ']'\n",
    "\n",
    "# Write the modified data to a new file with the correct encoding\n",
    "with open('modified_tweets.json', 'w', encoding='utf-8') as file:\n",
    "    file.write(modified_data)"
   ]
  },
  {
   "cell_type": "markdown",
   "id": "93ff08c0",
   "metadata": {},
   "source": [
    "### Compare the original and modified JSON file."
   ]
  },
  {
   "cell_type": "code",
   "execution_count": 24,
   "id": "3fc225dc",
   "metadata": {
    "scrolled": false
   },
   "outputs": [
    {
     "name": "stdout",
     "output_type": "stream",
     "text": [
      "Original Data:\n",
      "{\"_id\":{\"$oid\":\"5c8eccb0caa187d17ca623f5\"},\"text\":\"eu preciso de terminar de fazer a minha tabela, está muito foda **\",\"in_reply_to_status_id\":null,\"retweet_count\":null,\"contributors\":null,\"created_at\":\"Thu Sep 02 18:11:23 +0000 2010\",\"geo\":null,\"source\":\"web\",\"coordinates\":null,\"in_reply_to_screen_name\":null,\"truncated\":false,\"entities\":{\"user_mentions\":[],\"urls\":[],\"hashtags\":[]},\"retweeted\":false,\"place\":null,\"user\":{\"friends_count\":{\"$numberInt\":\"73\"},\"profile_sidebar_fill_color\":\"768575\",\"location\":\"\",\"verified\":false,\"follow_request_sent\":null,\"favourites_count\":{\"$numberInt\":\"1\"},\"profile_sidebar_border_color\":\"1c9dbd\",\"profile_image_url\":\"http://a2.twimg.com/profile_images/1036412454/OgAAADXK9q6kaxrvfwQTINH66RVLAH9YHb-veRTA4FaWb9KtbGGV_yKTGzmvzTfJidqAb5gK_mpspIE-MIvAASGH2CwAm1T1UIPQk0-HS8x_TV5kdnW30nch7ODk-1_normal.jpg\",\"geo_enabled\":false,\"created_at\":\"Fri Jul 03 21:44:05 +0000 2009\",\"description\":\"só os loucos sabem (:\",\"time_zone\":\"Brasilia\",\"url\":\"http://http://www.orkut.com.br/Main#Profile?uid=1433295880233078770\",\"screen_name\":\"Bia_cunha1\",\"notifications\":null,\"profile_background_color\":\"081114\",\"listed_count\":{\"$numberInt\":\"0\"},\"lang\":\"en\",\"profile_background_image_url\":\"http://a1.twimg.com/profile_background_images/133178546/biatwitter.jpg\",\"statuses_count\":{\"$numberInt\":\"3504\"},\"following\":null,\"profile_text_color\":\"25b8c2\",\"protected\":false,\"show_all_inline_media\":false,\"profile_background_tile\":true,\"name\":\"Beatriz Helena Cunha\",\"contributors_enabled\":false,\"profile_link_color\":\"eb55b6\",\"followers_count\":{\"$numberInt\":\"102\"},\"id\":{\"$numberInt\":\"53507833\"},\"profile_use_background_image\":true,\"utc_offset\":{\"$numberInt\":\"-10800\"}},\"favorited\":false,\"in_reply_to_user_id\":null,\"id\":{\"$numberLong\":\"22819396900\"}}\n",
      "{\"_id\":{\"$oid\":\"5c8eccb0caa187d17ca623f7\"},\"text\":\"I can't wait for #BoardwalkEmpire\",\"in_reply_to_status_id\":null,\"retweet_count\":null,\"contributors\":null,\"created_at\":\"Thu Sep 02 18:11:24 +0000 2010\",\"geo\":null,\"source\":\"<a href=\\\"http://www.tweetdeck.com\\\" rel=\\\"nofollow\\\">TweetDeck</a>\",\"coordinates\":null,\"in_reply_to_screen_name\":null,\"truncated\":false,\"entities\":{\"user_mentions\":[],\"urls\":[],\"hashtags\":[{\"text\":\"BoardwalkEmpire\",\"indices\":[{\"$numberInt\":\"17\"},{\"$numberInt\":\"33\"}]}]},\"retweeted\":false,\"place\":null,\"user\":{\"friends_count\":{\"$numberInt\":\"204\"},\"profile_sidebar_fill_color\":\"DDEEF6\",\"location\":\"\",\"verified\":false,\"follow_request_sent\":null,\"favourites_count\":{\"$numberInt\":\"0\"},\"profile_sidebar_border_color\":\"C0DEED\",\"profile_image_url\":\"http://a2.twimg.com/profile_images/936242594/missouri-crying1_normal.jpg\",\"geo_enabled\":false,\"created_at\":\"Sat Aug 08 22:22:40 +0000 2009\",\"description\":\"\",\"time_zone\":null,\"url\":null,\"screen_name\":\"seabass18\",\"notifications\":null,\"profile_background_color\":\"C0DEED\",\"listed_count\":{\"$numberInt\":\"1\"},\"lang\":\"en\",\"profile_background_image_url\":\"http://a1.twimg.com/profile_background_images/105773056/missouri-crying1.jpg\",\"statuses_count\":{\"$numberInt\":\"238\"},\"following\":null,\"profile_text_color\":\"333333\",\"protected\":false,\"show_all_inline_media\":false,\"profile_background_tile\":true,\"name\":\"Travis Siebrass\",\"contributors_enabled\":false,\"profile_link_color\":\"0084B4\",\"followers_count\":{\"$numberInt\":\"24\"},\"id\":{\"$numberInt\":\"64054560\"},\"profile_use_background_image\":true,\"utc_offset\":null},\"favorited\":false,\"in_reply_to_user_id\":null,\"id\":{\"$numberLong\":\"22819397300\"}}\n",
      "{\"_id\":{\"$oid\":\"5c8eccb0caa187d17ca623fa\"},\"text\":\"Oky nenek nya RT @wikigehol: Oky jd anak na yyyy RT\n",
      "\n",
      "Modified Data:\n",
      "[{\"_id\":{\"$oid\":\"5c8eccb0caa187d17ca623f5\"},\"text\":\"eu preciso de terminar de fazer a minha tabela, está muito foda **\",\"in_reply_to_status_id\":null,\"retweet_count\":null,\"contributors\":null,\"created_at\":\"Thu Sep 02 18:11:23 +0000 2010\",\"geo\":null,\"source\":\"web\",\"coordinates\":null,\"in_reply_to_screen_name\":null,\"truncated\":false,\"entities\":{\"user_mentions\":[],\"urls\":[],\"hashtags\":[]},\"retweeted\":false,\"place\":null,\"user\":{\"friends_count\":{\"$numberInt\":\"73\"},\"profile_sidebar_fill_color\":\"768575\",\"location\":\"\",\"verified\":false,\"follow_request_sent\":null,\"favourites_count\":{\"$numberInt\":\"1\"},\"profile_sidebar_border_color\":\"1c9dbd\",\"profile_image_url\":\"http://a2.twimg.com/profile_images/1036412454/OgAAADXK9q6kaxrvfwQTINH66RVLAH9YHb-veRTA4FaWb9KtbGGV_yKTGzmvzTfJidqAb5gK_mpspIE-MIvAASGH2CwAm1T1UIPQk0-HS8x_TV5kdnW30nch7ODk-1_normal.jpg\",\"geo_enabled\":false,\"created_at\":\"Fri Jul 03 21:44:05 +0000 2009\",\"description\":\"só os loucos sabem (:\",\"time_zone\":\"Brasilia\",\"url\":\"http://http://www.orkut.com.br/Main#Profile?uid=1433295880233078770\",\"screen_name\":\"Bia_cunha1\",\"notifications\":null,\"profile_background_color\":\"081114\",\"listed_count\":{\"$numberInt\":\"0\"},\"lang\":\"en\",\"profile_background_image_url\":\"http://a1.twimg.com/profile_background_images/133178546/biatwitter.jpg\",\"statuses_count\":{\"$numberInt\":\"3504\"},\"following\":null,\"profile_text_color\":\"25b8c2\",\"protected\":false,\"show_all_inline_media\":false,\"profile_background_tile\":true,\"name\":\"Beatriz Helena Cunha\",\"contributors_enabled\":false,\"profile_link_color\":\"eb55b6\",\"followers_count\":{\"$numberInt\":\"102\"},\"id\":{\"$numberInt\":\"53507833\"},\"profile_use_background_image\":true,\"utc_offset\":{\"$numberInt\":\"-10800\"}},\"favorited\":false,\"in_reply_to_user_id\":null,\"id\":{\"$numberLong\":\"22819396900\"}}\n",
      ",{\"_id\":{\"$oid\":\"5c8eccb0caa187d17ca623f7\"},\"text\":\"I can't wait for #BoardwalkEmpire\",\"in_reply_to_status_id\":null,\"retweet_count\":null,\"contributors\":null,\"created_at\":\"Thu Sep 02 18:11:24 +0000 2010\",\"geo\":null,\"source\":\"<a href=\\\"http://www.tweetdeck.com\\\" rel=\\\"nofollow\\\">TweetDeck</a>\",\"coordinates\":null,\"in_reply_to_screen_name\":null,\"truncated\":false,\"entities\":{\"user_mentions\":[],\"urls\":[],\"hashtags\":[{\"text\":\"BoardwalkEmpire\",\"indices\":[{\"$numberInt\":\"17\"},{\"$numberInt\":\"33\"}]}]},\"retweeted\":false,\"place\":null,\"user\":{\"friends_count\":{\"$numberInt\":\"204\"},\"profile_sidebar_fill_color\":\"DDEEF6\",\"location\":\"\",\"verified\":false,\"follow_request_sent\":null,\"favourites_count\":{\"$numberInt\":\"0\"},\"profile_sidebar_border_color\":\"C0DEED\",\"profile_image_url\":\"http://a2.twimg.com/profile_images/936242594/missouri-crying1_normal.jpg\",\"geo_enabled\":false,\"created_at\":\"Sat Aug 08 22:22:40 +0000 2009\",\"description\":\"\",\"time_zone\":null,\"url\":null,\"screen_name\":\"seabass18\",\"notifications\":null,\"profile_background_color\":\"C0DEED\",\"listed_count\":{\"$numberInt\":\"1\"},\"lang\":\"en\",\"profile_background_image_url\":\"http://a1.twimg.com/profile_background_images/105773056/missouri-crying1.jpg\",\"statuses_count\":{\"$numberInt\":\"238\"},\"following\":null,\"profile_text_color\":\"333333\",\"protected\":false,\"show_all_inline_media\":false,\"profile_background_tile\":true,\"name\":\"Travis Siebrass\",\"contributors_enabled\":false,\"profile_link_color\":\"0084B4\",\"followers_count\":{\"$numberInt\":\"24\"},\"id\":{\"$numberInt\":\"64054560\"},\"profile_use_background_image\":true,\"utc_offset\":null},\"favorited\":false,\"in_reply_to_user_id\":null,\"id\":{\"$numberLong\":\"22819397300\"}}\n",
      ",{\"_id\":{\"$oid\":\"5c8eccb0caa187d17ca623fa\"},\"text\":\"Oky nenek nya RT @wikigehol: Oky jd anak na yyyy\n"
     ]
    }
   ],
   "source": [
    "# Open the original JSON file\n",
    "with open('tweets.json', 'r', encoding='utf-8') as file:\n",
    "    original_data = file.read()\n",
    "\n",
    "# Open the modified JSON file\n",
    "with open('modified_tweets.json', 'r', encoding='utf-8') as file:\n",
    "    modified_data = file.read()\n",
    "\n",
    "# Print the original and modified data\n",
    "print(\"Original Data:\")\n",
    "print(original_data[:3500])  # Print the first 3500 characters\n",
    "\n",
    "print(\"\\nModified Data:\")\n",
    "print(modified_data[:3500])  # Print the first 3500 characters"
   ]
  },
  {
   "cell_type": "markdown",
   "id": "05d112a8",
   "metadata": {},
   "source": [
    "#### It can be seen that the modified dataset consists of brackets at the beginning and ending of the JSON file and separator between each tweet object. "
   ]
  }
 ],
 "metadata": {
  "kernelspec": {
   "display_name": "Python 3 (ipykernel)",
   "language": "python",
   "name": "python3"
  },
  "language_info": {
   "codemirror_mode": {
    "name": "ipython",
    "version": 3
   },
   "file_extension": ".py",
   "mimetype": "text/x-python",
   "name": "python",
   "nbconvert_exporter": "python",
   "pygments_lexer": "ipython3",
   "version": "3.9.13"
  }
 },
 "nbformat": 4,
 "nbformat_minor": 5
}
