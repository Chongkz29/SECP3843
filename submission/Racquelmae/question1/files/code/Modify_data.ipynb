{
 "cells": [
  {
   "cell_type": "code",
   "execution_count": null,
   "id": "64d05e10",
   "metadata": {},
   "outputs": [],
   "source": [
    "import json\n",
    "\n",
    "# Open the original JSON file with the correct encoding\n",
    "with open('city_inspections.json', 'r', encoding='utf-8') as file:\n",
    "    data = file.readlines()\n",
    "\n",
    "# Modify the data to add square brackets\n",
    "modified_data = '[' + ','.join(data) + ']'\n",
    "\n",
    "# Write the modified data to a new file with the correct encoding\n",
    "with open('new_city_inspections.json', 'w', encoding='utf-8') as file:\n",
    "    file.write(modified_data)"
   ]
  }
 ],
 "metadata": {
  "kernelspec": {
   "display_name": "Python 3 (ipykernel)",
   "language": "python",
   "name": "python3"
  },
  "language_info": {
   "codemirror_mode": {
    "name": "ipython",
    "version": 3
   },
   "file_extension": ".py",
   "mimetype": "text/x-python",
   "name": "python",
   "nbconvert_exporter": "python",
   "pygments_lexer": "ipython3",
   "version": "3.9.13"
  }
 },
 "nbformat": 4,
 "nbformat_minor": 5
}
