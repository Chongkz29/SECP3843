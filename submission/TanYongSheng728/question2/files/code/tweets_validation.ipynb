{
  "nbformat": 4,
  "nbformat_minor": 0,
  "metadata": {
    "colab": {
      "provenance": [],
      "authorship_tag": "ABX9TyMgSOfXjGYg/lmYPZ+OXtno",
      "include_colab_link": true
    },
    "kernelspec": {
      "name": "python3",
      "display_name": "Python 3"
    },
    "language_info": {
      "name": "python"
    }
  },
  "cells": [
    {
      "cell_type": "markdown",
      "metadata": {
        "id": "view-in-github",
        "colab_type": "text"
      },
      "source": [
        "<a href=\"https://colab.research.google.com/github/drshahizan/SECP3843/blob/main/submission/TanYongSheng728/question2/files/code/tweets_validation.ipynb\" target=\"_parent\"><img src=\"https://colab.research.google.com/assets/colab-badge.svg\" alt=\"Open In Colab\"/></a>"
      ]
    },
    {
      "cell_type": "markdown",
      "source": [
        "## Check if the json file is in correct format"
      ],
      "metadata": {
        "id": "_HoQNbSs8kXX"
      }
    },
    {
      "cell_type": "code",
      "execution_count": 1,
      "metadata": {
        "colab": {
          "base_uri": "https://localhost:8080/"
        },
        "id": "bbv7HZL1yj9k",
        "outputId": "511740aa-3001-405e-adfe-eb60d6eac595"
      },
      "outputs": [
        {
          "output_type": "stream",
          "name": "stdout",
          "text": [
            "Error: Invalid JSON file structure.\n",
            "Extra data: line 2 column 1 (char 1756)\n"
          ]
        }
      ],
      "source": [
        "import json\n",
        "\n",
        "def check_json_file_structure(file_path):\n",
        "    try:\n",
        "        with open(file_path) as file:\n",
        "            json.load(file)\n",
        "        print(\"JSON file structure is valid.\")\n",
        "    except json.JSONDecodeError as e:\n",
        "        print(\"Error: Invalid JSON file structure.\")\n",
        "        print(e)\n",
        "\n",
        "# Specify the path to your JSON file\n",
        "json_file_path = \"tweets.json\"\n",
        "\n",
        "# Call the function to check the JSON file structure\n",
        "check_json_file_structure(json_file_path)"
      ]
    },
    {
      "cell_type": "markdown",
      "source": [
        "## Fix JSON file format"
      ],
      "metadata": {
        "id": "w-c_P_-U8rfL"
      }
    },
    {
      "cell_type": "code",
      "source": [
        "def fix_json_file(file_path):\n",
        "    try:\n",
        "        with open(file_path, 'r', encoding='utf-8') as file:\n",
        "            data = file.readlines()\n",
        "\n",
        "        modified_data = '[' + ','.join(data) + ']'\n",
        "\n",
        "        with open('modified_' + file_path, 'w', encoding='utf-8') as file:\n",
        "            file.write(modified_data)\n",
        "\n",
        "        print(\"JSON file structure has been fixed.\")\n",
        "    except json.JSONDecodeError as e:\n",
        "        print(\"Error: Invalid JSON file structure.\")\n",
        "        print(e)\n",
        "\n",
        "# Specify the path to your JSON file\n",
        "json_file_path = \"tweets.json\"\n",
        "\n",
        "# Call the function to fix the JSON file structure\n",
        "fix_json_file(json_file_path)"
      ],
      "metadata": {
        "colab": {
          "base_uri": "https://localhost:8080/"
        },
        "id": "W1PoEB2B6W7Z",
        "outputId": "f2b09124-01e6-41e2-ff74-da07dbaf189e"
      },
      "execution_count": 8,
      "outputs": [
        {
          "output_type": "stream",
          "name": "stdout",
          "text": [
            "JSON file structure has been fixed.\n"
          ]
        }
      ]
    }
  ]
}