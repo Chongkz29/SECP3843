{
  "nbformat": 4,
  "nbformat_minor": 0,
  "metadata": {
    "colab": {
      "provenance": [],
      "authorship_tag": "ABX9TyNztGeQ9ymnBsJLcBE3BemS",
      "include_colab_link": true
    },
    "kernelspec": {
      "name": "python3",
      "display_name": "Python 3"
    },
    "language_info": {
      "name": "python"
    }
  },
  "cells": [
    {
      "cell_type": "markdown",
      "metadata": {
        "id": "view-in-github",
        "colab_type": "text"
      },
      "source": [
        "<a href=\"https://colab.research.google.com/github/drshahizan/SECP3843/blob/main/submission/TanYongSheng728/question2/files/code/tweets_validation.ipynb\" target=\"_parent\"><img src=\"https://colab.research.google.com/assets/colab-badge.svg\" alt=\"Open In Colab\"/></a>"
      ]
    },
    {
      "cell_type": "markdown",
      "source": [
        "## Check if the json file is in correct format"
      ],
      "metadata": {
        "id": "_HoQNbSs8kXX"
      }
    },
    {
      "cell_type": "code",
      "execution_count": 1,
      "metadata": {
        "colab": {
          "base_uri": "https://localhost:8080/"
        },
        "id": "bbv7HZL1yj9k",
        "outputId": "dfd2b85f-411d-4b07-fa03-80df8b19c70a"
      },
      "outputs": [
        {
          "output_type": "stream",
          "name": "stdout",
          "text": [
            "Error: Invalid JSON file structure.\n",
            "Extra data: line 2 column 1 (char 1756)\n"
          ]
        }
      ],
      "source": [
        "import json\n",
        "\n",
        "def check_json_file_structure(file_path):\n",
        "    try:\n",
        "        with open(file_path) as file:\n",
        "            json.load(file)\n",
        "        print(\"JSON file structure is valid.\")\n",
        "    except json.JSONDecodeError as e:\n",
        "        print(\"Error: Invalid JSON file structure.\")\n",
        "        print(e)\n",
        "\n",
        "# Specify the path to your JSON file\n",
        "json_file_path = \"tweets.json\"\n",
        "\n",
        "# Call the function to check the JSON file structure\n",
        "check_json_file_structure(json_file_path)"
      ]
    },
    {
      "cell_type": "markdown",
      "source": [
        "## Fix JSON file format"
      ],
      "metadata": {
        "id": "w-c_P_-U8rfL"
      }
    },
    {
      "cell_type": "code",
      "source": [
        "def fix_json_file(file_path):\n",
        "    try:\n",
        "        # Open the original JSON file with the correct encoding\n",
        "        with open('tweets.json', 'r', encoding='utf-8') as file:\n",
        "            data = file.readlines()\n",
        "\n",
        "        # Modify the data to add square brackets\n",
        "        modified_data = '[' + ','.join(data) + ']'\n",
        "\n",
        "        # Write the modified data to a new file with the correct encoding\n",
        "        with open('modified_tweets.json', 'w', encoding='utf-8') as file:\n",
        "            file.write(modified_data)\n",
        "\n",
        "        print(\"JSON file structure has been fixed.\")\n",
        "    except json.JSONDecodeError as e:\n",
        "        print(\"Error: Invalid JSON file structure.\")\n",
        "        print(e)\n",
        "\n",
        "# Specify the path to your JSON file\n",
        "json_file_path = \"tweets.json\"\n",
        "\n",
        "# Call the function to fix the JSON file structure\n",
        "fix_json_file(json_file_path)"
      ],
      "metadata": {
        "colab": {
          "base_uri": "https://localhost:8080/"
        },
        "id": "W1PoEB2B6W7Z",
        "outputId": "b2770cdc-6fc9-4b86-d2e9-5e824aae77a8"
      },
      "execution_count": 2,
      "outputs": [
        {
          "output_type": "stream",
          "name": "stdout",
          "text": [
            "JSON file structure has been fixed.\n"
          ]
        }
      ]
    }
  ]
}