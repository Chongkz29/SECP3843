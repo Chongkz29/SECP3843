{
  "nbformat": 4,
  "nbformat_minor": 0,
  "metadata": {
    "colab": {
      "provenance": []
    },
    "kernelspec": {
      "name": "python3",
      "display_name": "Python 3"
    },
    "language_info": {
      "name": "python"
    }
  },
  "cells": [
    {
      "cell_type": "code",
      "source": [
        "import json\n",
        "\n",
        "def check_json_structure(file_path):\n",
        "    try:\n",
        "        with open(file_path) as file:\n",
        "            data = json.load(file)\n",
        "            if isinstance(data, list):\n",
        "                if all(isinstance(doc, dict) for doc in data):\n",
        "                    return True\n",
        "    except (IOError, ValueError):\n",
        "        pass\n",
        "    return False"
      ],
      "metadata": {
        "id": "OivcAToMu6XQ"
      },
      "execution_count": 1,
      "outputs": []
    },
    {
      "cell_type": "code",
      "execution_count": 2,
      "metadata": {
        "colab": {
          "base_uri": "https://localhost:8080/"
        },
        "id": "J8jqy0Absjr5",
        "outputId": "a0fea958-e0d6-4bb9-88a8-c0f22faf4089"
      },
      "outputs": [
        {
          "output_type": "stream",
          "name": "stdout",
          "text": [
            "accounts.json structure is valid: False\n",
            "customers.json structure is valid: False\n",
            "transactions.json structure is valid: False\n"
          ]
        }
      ],
      "source": [
        "# Check the structure of the JSON files\n",
        "is_accounts_valid = check_json_structure('accounts.json')\n",
        "is_customers_valid = check_json_structure('customers.json')\n",
        "is_transactions_valid = check_json_structure('transactions.json')\n",
        "\n",
        "# Print the validation results\n",
        "print(f\"accounts.json structure is valid: {is_accounts_valid}\")\n",
        "print(f\"customers.json structure is valid: {is_customers_valid}\")\n",
        "print(f\"transactions.json structure is valid: {is_transactions_valid}\")\n"
      ]
    },
    {
      "cell_type": "code",
      "source": [
        "def modify_json_structure(file_path):\n",
        "    try:\n",
        "        with open(file_path, 'r', encoding='utf-8') as file:\n",
        "            data = file.readlines()\n",
        "\n",
        "        # Modify the data to add square brackets\n",
        "        modified_data = '[' + ','.join(data) + ']'\n",
        "\n",
        "        # Write the modified data to a new file with the correct encoding\n",
        "        with open('correct_' + file_path, 'w', encoding='utf-8') as modified_file:\n",
        "            modified_file.write(modified_data)\n",
        "\n",
        "        print(f\"Modified {file_path} to have the correct JSON structure.\")\n",
        "    except IOError:\n",
        "        print(f\"Error: Unable to open or modify {file_path}.\")"
      ],
      "metadata": {
        "id": "rpsX0vxgzxFr"
      },
      "execution_count": 3,
      "outputs": []
    },
    {
      "cell_type": "code",
      "source": [
        "# Modify the customers.json file\n",
        "modify_json_structure('customers.json')\n",
        "\n",
        "# Modify the accounts.json file\n",
        "modify_json_structure('accounts.json')\n",
        "\n",
        "# Modify the transactions.json file\n",
        "modify_json_structure('transactions.json')"
      ],
      "metadata": {
        "colab": {
          "base_uri": "https://localhost:8080/"
        },
        "id": "VVeS4zJszyQg",
        "outputId": "a30b70e7-8307-4c3b-b98e-f0fe22c92826"
      },
      "execution_count": 4,
      "outputs": [
        {
          "output_type": "stream",
          "name": "stdout",
          "text": [
            "Modified customers.json to have the correct JSON structure.\n",
            "Modified accounts.json to have the correct JSON structure.\n",
            "Modified transactions.json to have the correct JSON structure.\n"
          ]
        }
      ]
    },
    {
      "cell_type": "code",
      "source": [
        "# Verify the structure of the modified JSON files\n",
        "is_modified_accounts_valid = check_json_structure('correct_accounts.json')\n",
        "is_modified_customers_valid = check_json_structure('correct_customers.json')\n",
        "is_modified_transactions_valid = check_json_structure('correct_transactions.json')\n",
        "\n",
        "# Print the validation results\n",
        "print(f\"Modified accounts.json structure is valid: {is_modified_accounts_valid}\")\n",
        "print(f\"Modified customers.json structure is valid: {is_modified_customers_valid}\")\n",
        "print(f\"Modified transactions.json structure is valid: {is_modified_transactions_valid}\")"
      ],
      "metadata": {
        "colab": {
          "base_uri": "https://localhost:8080/"
        },
        "id": "ud3KD_pe1Agq",
        "outputId": "9eb486bd-cd45-4df9-8da5-506995090c07"
      },
      "execution_count": 5,
      "outputs": [
        {
          "output_type": "stream",
          "name": "stdout",
          "text": [
            "Modified accounts.json structure is valid: True\n",
            "Modified customers.json structure is valid: True\n",
            "Modified transactions.json structure is valid: True\n"
          ]
        }
      ]
    }
  ]
}