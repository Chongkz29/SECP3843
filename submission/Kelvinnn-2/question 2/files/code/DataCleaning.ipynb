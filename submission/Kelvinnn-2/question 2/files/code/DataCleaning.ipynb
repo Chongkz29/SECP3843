{
  "nbformat": 4,
  "nbformat_minor": 0,
  "metadata": {
    "colab": {
      "provenance": []
    },
    "kernelspec": {
      "name": "python3",
      "display_name": "Python 3"
    },
    "language_info": {
      "name": "python"
    }
  },
  "cells": [
    {
      "cell_type": "code",
      "execution_count": null,
      "metadata": {
        "colab": {
          "base_uri": "https://localhost:8080/"
        },
        "id": "Dy7NfrFaNsqR",
        "outputId": "03b1488a-9cb8-4075-8f22-3585a5809577"
      },
      "outputs": [
        {
          "output_type": "stream",
          "name": "stdout",
          "text": [
            "File 'formatted_city_inspections.json' created successfully.\n"
          ]
        }
      ],
      "source": [
        "import json\n",
        "\n",
        "# Read the data from city_inspections.json\n",
        "with open('city_inspections.json', 'r') as file:\n",
        "    data = file.read()\n",
        "\n",
        "# Convert the data into a list of dictionaries\n",
        "data_list = [json.loads(line) for line in data.split('\\n') if line.strip()]\n",
        "\n",
        "# Write the data to a new JSON file\n",
        "with open('formatted_city_inspections.json', 'w') as file:\n",
        "    json.dump(data_list, file, indent=4)\n",
        "\n",
        "print(\"File 'formatted_city_inspections.json' created successfully.\")\n"
      ]
    },
    {
      "cell_type": "code",
      "source": [],
      "metadata": {
        "id": "gwc0urmiN4vz"
      },
      "execution_count": null,
      "outputs": []
    }
  ]
}