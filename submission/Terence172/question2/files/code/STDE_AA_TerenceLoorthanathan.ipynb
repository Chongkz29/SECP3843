{
  "nbformat": 4,
  "nbformat_minor": 0,
  "metadata": {
    "colab": {
      "provenance": [],
      "authorship_tag": "ABX9TyOyeAzpOOKxcs7giCZgRLmV",
      "include_colab_link": true
    },
    "kernelspec": {
      "name": "python3",
      "display_name": "Python 3"
    },
    "language_info": {
      "name": "python"
    }
  },
  "cells": [
    {
      "cell_type": "markdown",
      "metadata": {
        "id": "view-in-github",
        "colab_type": "text"
      },
      "source": [
        "<a href=\"https://colab.research.google.com/github/drshahizan/SECP3843/blob/main/submission/Terence172/question2/files/code/STDE_AA_TerenceLoorthanathan.ipynb\" target=\"_parent\"><img src=\"https://colab.research.google.com/assets/colab-badge.svg\" alt=\"Open In Colab\"/></a>"
      ]
    },
    {
      "cell_type": "markdown",
      "source": [
        "## Mount Google Drive First... Upload your dataset in here as well"
      ],
      "metadata": {
        "id": "6rrmTPl2Xxt7"
      }
    },
    {
      "cell_type": "code",
      "source": [
        "from google.colab import drive\n",
        "drive.mount('/content/drive')"
      ],
      "metadata": {
        "colab": {
          "base_uri": "https://localhost:8080/"
        },
        "id": "YMYH8r0Icm-4",
        "outputId": "5ac9f9e0-2b7a-4ad4-d5aa-b62f0bc391a9"
      },
      "execution_count": null,
      "outputs": [
        {
          "output_type": "stream",
          "name": "stdout",
          "text": [
            "Mounted at /content/drive\n"
          ]
        }
      ]
    },
    {
      "cell_type": "markdown",
      "source": [
        "## Change file_path accordingly and run the code\n",
        "- Note: Remove any columns if you dont need them"
      ],
      "metadata": {
        "id": "c_l8rGScXxGH"
      }
    },
    {
      "cell_type": "code",
      "execution_count": null,
      "metadata": {
        "id": "l9KIOHrFcXCX"
      },
      "outputs": [],
      "source": [
        "import json\n",
        "\n",
        "file_path = '/content/drive/MyDrive/Personal/tweets.json'\n",
        "\n",
        "with open(file_path, 'r') as file:\n",
        "    data = [json.loads(line) for line in file]\n",
        "\n",
        "new_data = []\n",
        "\n",
        "for document in data:\n",
        "    new_data.append(document)\n",
        "\n",
        "with open('/content/new_data.json', 'w') as file:\n",
        "    json.dump(new_data, file)"
      ]
    }
  ]
}