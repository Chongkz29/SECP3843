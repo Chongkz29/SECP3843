{
 "cells": [
  {
   "cell_type": "markdown",
   "id": "e50dc785",
   "metadata": {},
   "source": [
    "### The Stories JSON dataset is read with the encoding set to UTF-8"
   ]
  },
  {
   "cell_type": "code",
   "execution_count": 3,
   "id": "905b4d1f",
   "metadata": {},
   "outputs": [],
   "source": [
    "import json\n",
    "\n",
    "with open('stories.json', 'r', encoding='utf-8') as file:\n",
    "    stories = file.readlines()\n",
    "\n",
    "# Modify the data to add square brackets\n",
    "modified_data = '[' + ','.join(data) + ']'\n",
    "\n",
    "# Write the modified data to a new file with the correct encoding\n",
    "with open('stories.json', 'w', encoding='utf-8') as file:\n",
    "    file.write(modified_data)"
   ]
  },
  {
   "cell_type": "code",
   "execution_count": 4,
   "id": "8dd454dc",
   "metadata": {},
   "outputs": [
    {
     "name": "stdout",
     "output_type": "stream",
     "text": [
      "Original Data:\n",
      "[{\"_id\":{\"$oid\":\"4ba267dc238d3ba3ca000001\"},\"href\":\"http://digg.com/people/Jedi_believer_who_refused_to_remove_hood_gets_an_apology\",\"title\":\"'Jedi' believer who refused to remove hood gets an apology!\",\"comments\":{\"$numberInt\":\"153\"},\"container\":{\"name\":\"Offbeat\",\"short_name\":\"offbeat\"},\"submit_date\":{\"$numberInt\":\"1268771801\"},\"topic\":{\"name\":\"People\",\"short_name\":\"people\"},\"promote_date\":{\"$numberInt\":\"1268915964\"},\"id\":\"19970068\",\"media\":\"news\",\"diggs\":{\"$numberInt\":\"404\"},\"description\":\"Chris Jarvis is a member of the International Church of Jediism - based on the famous Star Wars films - whose doctrine states followers can wear hoods.\",\"link\":\"http://www.dailymail.co.uk/news/article-1258365/Jedi-believer-wins-apology-Jobcentre-kicked-wearing-hood.html\",\"user\":{\"name\":\"babychen\",\"registered\":{\"$numberInt\":\"1141570067\"},\"fullname\":\"Babychen Mathew\",\"icon\":\"http://digg.com/users/babychen/l.png\",\"profileviews\":{\"$numberInt\":\"24749\"}},\"status\":\"popular\",\"shorturl\":[{\"short_url\":\"http://digg.com/d31Ln7s\",\"view_count\":{\"$numberInt\":\"3682\"}}]}\n",
      ",{\"_id\":{\"$oid\":\"4ba267dc238d3ba3ca000003\"},\"href\":\"http://digg.com/odd_stuff/Man_Assaulted_Female_Police_Officer_With_His_Penis\",\"title\":\"Man Assaulted Female Police Officer With His Penis\",\"comments\":{\"$numberInt\":\"93\"},\"thumbnail\":{\"originalheight\":{\"$numberInt\":\"170\"},\"originalwidth\":{\"$numberInt\":\"226\"},\"src\":\"http://digg.com/odd_stuff/Man_Assaulted_Female_Police_Officer_With_His_Penis/t.jpg\",\"height\":{\"$numberInt\":\"80\"},\"width\":{\"$numberInt\":\"80\"},\"contentType\":\"image/jpeg\"},\"container\":{\"name\":\"Offbeat\",\"short_name\":\"offbeat\"},\"submit_date\":{\"$numberInt\":\"1268755030\"},\"topic\":{\"name\":\"Odd Stuff\",\"short_name\":\"odd_stuff\"},\"promote_date\":{\"$numberInt\":\"1268903731\"},\"id\":\"19963997\",\"media\":\"news\",\"diggs\":{\"$numberInt\":\"262\"},\"description\":\"A 28-year-old man who assaulted a female police officer with his penis in Aberdeen is fined £600 by a sheriff. Fiscal depute Elaine : \\\"The accused got to his feet and was standing over the police officer exposing his penis and thrusting it in her face, forcing her to take evasive action to avoid getting struck.\\\"\",\"link\":\"http://news.bbc.co.uk/1/hi/scotland/north_east/8570398.stm\",\"user\":{\"name\":\"LyndonFM\",\"registered\":{\"$numberInt\":\"1192555553\"},\"icon\":\"http://digg.com/users/LyndonFM/l.png\",\"profileviews\":{\"$numberInt\":\"509\"}},\"status\":\"popular\",\"shorturl\":[{\"short_url\":\"http://digg.com/d31LlXx\",\"view_count\":{\"$numberInt\":\"1864\"}}]}\n",
      ",{\"_id\":{\"$oid\":\"4ba267dc238d3ba3ca000004\"},\"href\":\"http://digg.com/pets_animals/Can_Killer_Whales_decide_to_kill_a_person\",\"title\":\"Can Killer Whales decide to kill a person?\",\"comments\":{\"$numberInt\":\"58\"},\"thumbnail\":{\"originalheight\":{\"$numberInt\":\"476\"},\"originalwidth\":{\"$numberInt\":\"768\"},\"src\":\"http://digg.com/pets_animals/Can_Killer_Whales_decide_to_kill_a_person/t.jpg\",\"height\":{\"$numberInt\":\"80\"},\"width\":{\"$numberInt\":\"80\"},\"contentType\":\"image/jpeg\"},\"container\":{\"name\":\"Offbeat\",\"short_name\":\"offbeat\"},\"submit_date\":{\"$numberInt\":\"1268759982\"},\"topic\":{\"name\":\"Pets & Animals\",\"short_name\":\"pets_animals\"},\"promote_date\":{\"$numberInt\":\"1268892002\"},\"id\":\"19965986\",\"media\":\"news\",\"diggs\":{\"$numberInt\":\"293\"},\"description\":\"Researchers have yet to find evidence that an orca in the wild has ever killed a person. But they aren't surprised that the world's biggest, most powerful and possibly smartest predator, captured and kept for years in a tank, cut off from the influences of an extended family, could have a fatal encount\n"
     ]
    }
   ],
   "source": [
    "# Open the original JSON file\n",
    "with open('stories.json', 'r', encoding='utf-8') as file:\n",
    "    original_data = file.read()\n",
    "\n",
    "\n",
    "# Print the original and modified data\n",
    "print(\"Original Data:\")\n",
    "print(original_data[:3500]) "
   ]
  },
  {
   "cell_type": "code",
   "execution_count": null,
   "id": "38ec0d6e",
   "metadata": {},
   "outputs": [],
   "source": []
  }
 ],
 "metadata": {
  "kernelspec": {
   "display_name": "Python 3 (ipykernel)",
   "language": "python",
   "name": "python3"
  },
  "language_info": {
   "codemirror_mode": {
    "name": "ipython",
    "version": 3
   },
   "file_extension": ".py",
   "mimetype": "text/x-python",
   "name": "python",
   "nbconvert_exporter": "python",
   "pygments_lexer": "ipython3",
   "version": "3.9.13"
  }
 },
 "nbformat": 4,
 "nbformat_minor": 5
}
